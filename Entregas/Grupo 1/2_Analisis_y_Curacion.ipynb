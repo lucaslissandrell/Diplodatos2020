{
  "nbformat": 4,
  "nbformat_minor": 0,
  "metadata": {
    "kernelspec": {
      "display_name": "Python 3",
      "language": "python",
      "name": "python3"
    },
    "language_info": {
      "codemirror_mode": {
        "name": "ipython",
        "version": 3
      },
      "file_extension": ".py",
      "mimetype": "text/x-python",
      "name": "python",
      "nbconvert_exporter": "python",
      "pygments_lexer": "ipython3",
      "version": "3.6.10"
    },
    "colab": {
      "name": "2_Analisis_y_Curacion.ipynb",
      "provenance": [],
      "collapsed_sections": [
        "YmeYdztnc8wL"
      ],
      "toc_visible": true
    }
  },
  "cells": [
    {
      "cell_type": "markdown",
      "metadata": {
        "id": "U_4sCBvpc8wK",
        "colab_type": "text"
      },
      "source": [
        "<center>\n",
        "<h2>Universidad Nacional de Córdoba - Facultad de Matemática, Astronomía, Física y Computación</h2>\n",
        "<h3>Diplomatura en Ciencia de Datos, Aprendizaje Automático y sus Aplicaciones 2020</h3>\n",
        "<h3>Predicción de la Calidad de Servicio</h3>\n",
        "<h3>Análisis y Curación</h3>\n",
        "</center>\n",
        "</left>\n",
        "<h4>Mentor: Martín Hunziker</h4>\n",
        "\n",
        "[Link Mentoria](https://sites.google.com/view/mentorias2020-diplodatos/ciencia-de-datos-aplicada-en-la-distribuci%C3%B3n-de-energ%C3%ADa-el%C3%A9ctrica?authuser=0).\n",
        "\n",
        "</left>\n",
        "</left>"
      ]
    },
    {
      "cell_type": "markdown",
      "metadata": {
        "id": "YmeYdztnc8wL",
        "colab_type": "text"
      },
      "source": [
        "### Introducción\n",
        "\n",
        "En la siguiente notebook, se presentará la consigna a seguir para el segundo práctico de la materia Análisis y Curación. El objetivo consiste en vincular las tablas del dataset, así como iniciar el tratamiento de los datos geográficos.\n",
        "\n",
        "Como referencia para el análisis geográfico utilizaremos la notebook 2_0_Intro_Variables_georefrenciadas de Ramiro Caro.\n"
      ]
    },
    {
      "cell_type": "code",
      "metadata": {
        "id": "qNxqIt20c8wM",
        "colab_type": "code",
        "colab": {
          "base_uri": "https://localhost:8080/",
          "height": 1000
        },
        "outputId": "f3afb308-d366-4bef-ed42-741f51503a62"
      },
      "source": [
        "# Instalación de librerias en Collab\n",
        "!pip install geopandas\n",
        "!apt install libspatialindex-dev\n",
        "!pip install rtree\n",
        "!pip install osmnx\n",
        "!pip install contextily\n",
        "\n",
        "!wget -nc https://github.com/mahunz/Diplodatos2020/blob/master/Dataset/ENF_6612_2018-12-31_M10_20190529-1610.gdb.7z?raw=true\n",
        "!apt-get install p7zip\n",
        "!mkdir -p Dataset\n",
        "!mv ENF_6612_2018-12-31_M10_20190529-1610.gdb.7z?raw=true ./Dataset/ENF_6612_2018-12-31_M10_20190529-1610.gdb.7z\n",
        "!7za x ./Dataset/ENF_6612_2018-12-31_M10_20190529-1610.gdb.7z\n",
        "!mv ENF_6612_2018-12-31_M10_20190529-1610.gdb ./Dataset/ENF_6612_2018-12-31_M10_20190529-1610.gdb"
      ],
      "execution_count": 30,
      "outputs": [
        {
          "output_type": "stream",
          "text": [
            "Requirement already satisfied: geopandas in /usr/local/lib/python3.6/dist-packages (0.8.1)\n",
            "Requirement already satisfied: fiona in /usr/local/lib/python3.6/dist-packages (from geopandas) (1.8.13.post1)\n",
            "Requirement already satisfied: pyproj>=2.2.0 in /usr/local/lib/python3.6/dist-packages (from geopandas) (2.6.1.post1)\n",
            "Requirement already satisfied: pandas>=0.23.0 in /usr/local/lib/python3.6/dist-packages (from geopandas) (1.0.5)\n",
            "Requirement already satisfied: shapely in /usr/local/lib/python3.6/dist-packages (from geopandas) (1.7.0)\n",
            "Requirement already satisfied: click-plugins>=1.0 in /usr/local/lib/python3.6/dist-packages (from fiona->geopandas) (1.1.1)\n",
            "Requirement already satisfied: munch in /usr/local/lib/python3.6/dist-packages (from fiona->geopandas) (2.5.0)\n",
            "Requirement already satisfied: click<8,>=4.0 in /usr/local/lib/python3.6/dist-packages (from fiona->geopandas) (7.1.2)\n",
            "Requirement already satisfied: cligj>=0.5 in /usr/local/lib/python3.6/dist-packages (from fiona->geopandas) (0.5.0)\n",
            "Requirement already satisfied: six>=1.7 in /usr/local/lib/python3.6/dist-packages (from fiona->geopandas) (1.15.0)\n",
            "Requirement already satisfied: attrs>=17 in /usr/local/lib/python3.6/dist-packages (from fiona->geopandas) (19.3.0)\n",
            "Requirement already satisfied: python-dateutil>=2.6.1 in /usr/local/lib/python3.6/dist-packages (from pandas>=0.23.0->geopandas) (2.8.1)\n",
            "Requirement already satisfied: numpy>=1.13.3 in /usr/local/lib/python3.6/dist-packages (from pandas>=0.23.0->geopandas) (1.18.5)\n",
            "Requirement already satisfied: pytz>=2017.2 in /usr/local/lib/python3.6/dist-packages (from pandas>=0.23.0->geopandas) (2018.9)\n",
            "Reading package lists... Done\n",
            "Building dependency tree       \n",
            "Reading state information... Done\n",
            "libspatialindex-dev is already the newest version (1.8.5-5).\n",
            "The following package was automatically installed and is no longer required:\n",
            "  libnvidia-common-440\n",
            "Use 'apt autoremove' to remove it.\n",
            "0 upgraded, 0 newly installed, 0 to remove and 35 not upgraded.\n",
            "Requirement already satisfied: rtree in /usr/local/lib/python3.6/dist-packages (0.9.4)\n",
            "Requirement already satisfied: setuptools in /usr/local/lib/python3.6/dist-packages (from rtree) (49.2.0)\n",
            "Requirement already satisfied: osmnx in /usr/local/lib/python3.6/dist-packages (0.15.1)\n",
            "Requirement already satisfied: requests>=2.23 in /usr/local/lib/python3.6/dist-packages (from osmnx) (2.23.0)\n",
            "Requirement already satisfied: geopandas>=0.7 in /usr/local/lib/python3.6/dist-packages (from osmnx) (0.8.1)\n",
            "Requirement already satisfied: Shapely>=1.7 in /usr/local/lib/python3.6/dist-packages (from osmnx) (1.7.0)\n",
            "Requirement already satisfied: Rtree>=0.9 in /usr/local/lib/python3.6/dist-packages (from osmnx) (0.9.4)\n",
            "Requirement already satisfied: descartes>=1.1 in /usr/local/lib/python3.6/dist-packages (from osmnx) (1.1.0)\n",
            "Requirement already satisfied: pandas>=1.0 in /usr/local/lib/python3.6/dist-packages (from osmnx) (1.0.5)\n",
            "Requirement already satisfied: networkx>=2.4 in /usr/local/lib/python3.6/dist-packages (from osmnx) (2.4)\n",
            "Requirement already satisfied: matplotlib>=3.2 in /usr/local/lib/python3.6/dist-packages (from osmnx) (3.2.2)\n",
            "Requirement already satisfied: numpy>=1.18 in /usr/local/lib/python3.6/dist-packages (from osmnx) (1.18.5)\n",
            "Requirement already satisfied: pyproj>=2.6 in /usr/local/lib/python3.6/dist-packages (from osmnx) (2.6.1.post1)\n",
            "Requirement already satisfied: certifi>=2017.4.17 in /usr/local/lib/python3.6/dist-packages (from requests>=2.23->osmnx) (2020.6.20)\n",
            "Requirement already satisfied: chardet<4,>=3.0.2 in /usr/local/lib/python3.6/dist-packages (from requests>=2.23->osmnx) (3.0.4)\n",
            "Requirement already satisfied: urllib3!=1.25.0,!=1.25.1,<1.26,>=1.21.1 in /usr/local/lib/python3.6/dist-packages (from requests>=2.23->osmnx) (1.24.3)\n",
            "Requirement already satisfied: idna<3,>=2.5 in /usr/local/lib/python3.6/dist-packages (from requests>=2.23->osmnx) (2.10)\n",
            "Requirement already satisfied: fiona in /usr/local/lib/python3.6/dist-packages (from geopandas>=0.7->osmnx) (1.8.13.post1)\n",
            "Requirement already satisfied: setuptools in /usr/local/lib/python3.6/dist-packages (from Rtree>=0.9->osmnx) (49.2.0)\n",
            "Requirement already satisfied: pytz>=2017.2 in /usr/local/lib/python3.6/dist-packages (from pandas>=1.0->osmnx) (2018.9)\n",
            "Requirement already satisfied: python-dateutil>=2.6.1 in /usr/local/lib/python3.6/dist-packages (from pandas>=1.0->osmnx) (2.8.1)\n",
            "Requirement already satisfied: decorator>=4.3.0 in /usr/local/lib/python3.6/dist-packages (from networkx>=2.4->osmnx) (4.4.2)\n",
            "Requirement already satisfied: pyparsing!=2.0.4,!=2.1.2,!=2.1.6,>=2.0.1 in /usr/local/lib/python3.6/dist-packages (from matplotlib>=3.2->osmnx) (2.4.7)\n",
            "Requirement already satisfied: kiwisolver>=1.0.1 in /usr/local/lib/python3.6/dist-packages (from matplotlib>=3.2->osmnx) (1.2.0)\n",
            "Requirement already satisfied: cycler>=0.10 in /usr/local/lib/python3.6/dist-packages (from matplotlib>=3.2->osmnx) (0.10.0)\n",
            "Requirement already satisfied: click<8,>=4.0 in /usr/local/lib/python3.6/dist-packages (from fiona->geopandas>=0.7->osmnx) (7.1.2)\n",
            "Requirement already satisfied: six>=1.7 in /usr/local/lib/python3.6/dist-packages (from fiona->geopandas>=0.7->osmnx) (1.15.0)\n",
            "Requirement already satisfied: attrs>=17 in /usr/local/lib/python3.6/dist-packages (from fiona->geopandas>=0.7->osmnx) (19.3.0)\n",
            "Requirement already satisfied: cligj>=0.5 in /usr/local/lib/python3.6/dist-packages (from fiona->geopandas>=0.7->osmnx) (0.5.0)\n",
            "Requirement already satisfied: click-plugins>=1.0 in /usr/local/lib/python3.6/dist-packages (from fiona->geopandas>=0.7->osmnx) (1.1.1)\n",
            "Requirement already satisfied: munch in /usr/local/lib/python3.6/dist-packages (from fiona->geopandas>=0.7->osmnx) (2.5.0)\n",
            "Requirement already satisfied: contextily in /usr/local/lib/python3.6/dist-packages (1.0.0)\n",
            "Requirement already satisfied: rasterio in /usr/local/lib/python3.6/dist-packages (from contextily) (1.1.5)\n",
            "Requirement already satisfied: matplotlib in /usr/local/lib/python3.6/dist-packages (from contextily) (3.2.2)\n",
            "Requirement already satisfied: geopy in /usr/local/lib/python3.6/dist-packages (from contextily) (1.17.0)\n",
            "Requirement already satisfied: mercantile in /usr/local/lib/python3.6/dist-packages (from contextily) (1.1.5)\n",
            "Requirement already satisfied: pillow in /usr/local/lib/python3.6/dist-packages (from contextily) (7.0.0)\n",
            "Requirement already satisfied: joblib in /usr/local/lib/python3.6/dist-packages (from contextily) (0.16.0)\n",
            "Requirement already satisfied: requests in /usr/local/lib/python3.6/dist-packages (from contextily) (2.23.0)\n",
            "Requirement already satisfied: click-plugins in /usr/local/lib/python3.6/dist-packages (from rasterio->contextily) (1.1.1)\n",
            "Requirement already satisfied: affine in /usr/local/lib/python3.6/dist-packages (from rasterio->contextily) (2.3.0)\n",
            "Requirement already satisfied: numpy in /usr/local/lib/python3.6/dist-packages (from rasterio->contextily) (1.18.5)\n",
            "Requirement already satisfied: click<8,>=4.0 in /usr/local/lib/python3.6/dist-packages (from rasterio->contextily) (7.1.2)\n",
            "Requirement already satisfied: snuggs>=1.4.1 in /usr/local/lib/python3.6/dist-packages (from rasterio->contextily) (1.4.7)\n",
            "Requirement already satisfied: cligj>=0.5 in /usr/local/lib/python3.6/dist-packages (from rasterio->contextily) (0.5.0)\n",
            "Requirement already satisfied: attrs in /usr/local/lib/python3.6/dist-packages (from rasterio->contextily) (19.3.0)\n",
            "Requirement already satisfied: cycler>=0.10 in /usr/local/lib/python3.6/dist-packages (from matplotlib->contextily) (0.10.0)\n",
            "Requirement already satisfied: python-dateutil>=2.1 in /usr/local/lib/python3.6/dist-packages (from matplotlib->contextily) (2.8.1)\n",
            "Requirement already satisfied: kiwisolver>=1.0.1 in /usr/local/lib/python3.6/dist-packages (from matplotlib->contextily) (1.2.0)\n",
            "Requirement already satisfied: pyparsing!=2.0.4,!=2.1.2,!=2.1.6,>=2.0.1 in /usr/local/lib/python3.6/dist-packages (from matplotlib->contextily) (2.4.7)\n",
            "Requirement already satisfied: geographiclib<2,>=1.49 in /usr/local/lib/python3.6/dist-packages (from geopy->contextily) (1.50)\n",
            "Requirement already satisfied: idna<3,>=2.5 in /usr/local/lib/python3.6/dist-packages (from requests->contextily) (2.10)\n",
            "Requirement already satisfied: chardet<4,>=3.0.2 in /usr/local/lib/python3.6/dist-packages (from requests->contextily) (3.0.4)\n",
            "Requirement already satisfied: certifi>=2017.4.17 in /usr/local/lib/python3.6/dist-packages (from requests->contextily) (2020.6.20)\n",
            "Requirement already satisfied: urllib3!=1.25.0,!=1.25.1,<1.26,>=1.21.1 in /usr/local/lib/python3.6/dist-packages (from requests->contextily) (1.24.3)\n",
            "Requirement already satisfied: six in /usr/local/lib/python3.6/dist-packages (from cycler>=0.10->matplotlib->contextily) (1.15.0)\n",
            "--2020-08-09 18:39:19--  https://github.com/mahunz/Diplodatos2020/blob/master/Dataset/ENF_6612_2018-12-31_M10_20190529-1610.gdb.7z?raw=true\n",
            "Resolving github.com (github.com)... 140.82.114.3\n",
            "Connecting to github.com (github.com)|140.82.114.3|:443... connected.\n",
            "HTTP request sent, awaiting response... 302 Found\n",
            "Location: https://github.com/mahunz/Diplodatos2020/raw/master/Dataset/ENF_6612_2018-12-31_M10_20190529-1610.gdb.7z [following]\n",
            "--2020-08-09 18:39:19--  https://github.com/mahunz/Diplodatos2020/raw/master/Dataset/ENF_6612_2018-12-31_M10_20190529-1610.gdb.7z\n",
            "Reusing existing connection to github.com:443.\n",
            "HTTP request sent, awaiting response... 302 Found\n",
            "Location: https://raw.githubusercontent.com/mahunz/Diplodatos2020/master/Dataset/ENF_6612_2018-12-31_M10_20190529-1610.gdb.7z [following]\n",
            "--2020-08-09 18:39:19--  https://raw.githubusercontent.com/mahunz/Diplodatos2020/master/Dataset/ENF_6612_2018-12-31_M10_20190529-1610.gdb.7z\n",
            "Resolving raw.githubusercontent.com (raw.githubusercontent.com)... 151.101.0.133, 151.101.64.133, 151.101.128.133, ...\n",
            "Connecting to raw.githubusercontent.com (raw.githubusercontent.com)|151.101.0.133|:443... connected.\n",
            "HTTP request sent, awaiting response... 200 OK\n",
            "Length: 11687422 (11M) [application/octet-stream]\n",
            "Saving to: ‘ENF_6612_2018-12-31_M10_20190529-1610.gdb.7z?raw=true’\n",
            "\n",
            "ENF_6612_2018-12-31 100%[===================>]  11.15M  --.-KB/s    in 0.1s    \n",
            "\n",
            "2020-08-09 18:39:19 (98.2 MB/s) - ‘ENF_6612_2018-12-31_M10_20190529-1610.gdb.7z?raw=true’ saved [11687422/11687422]\n",
            "\n",
            "Reading package lists... Done\n",
            "Building dependency tree       \n",
            "Reading state information... Done\n",
            "p7zip is already the newest version (16.02+dfsg-6).\n",
            "The following package was automatically installed and is no longer required:\n",
            "  libnvidia-common-440\n",
            "Use 'apt autoremove' to remove it.\n",
            "0 upgraded, 0 newly installed, 0 to remove and 35 not upgraded.\n",
            "\n",
            "7-Zip (a) [64] 16.02 : Copyright (c) 1999-2016 Igor Pavlov : 2016-05-21\n",
            "p7zip Version 16.02 (locale=en_US.UTF-8,Utf16=on,HugeFiles=on,64 bits,2 CPUs Intel(R) Xeon(R) CPU @ 2.30GHz (306F0),ASM,AES-NI)\n",
            "\n",
            "Scanning the drive for archives:\n",
            "  0M Scan ./Dataset/\b\b\b\b\b\b\b\b\b\b\b\b\b\b\b\b\b\b\b\b                    \b\b\b\b\b\b\b\b\b\b\b\b\b\b\b\b\b\b\b\b1 file, 11687422 bytes (12 MiB)\n",
            "\n",
            "Extracting archive: ./Dataset/ENF_6612_2018-12-31_M10_20190529-1610.gdb.7z\n",
            "--\n",
            "Path = ./Dataset/ENF_6612_2018-12-31_M10_20190529-1610.gdb.7z\n",
            "Type = 7z\n",
            "Physical Size = 11687422\n",
            "Headers Size = 2471\n",
            "Method = LZMA2:24\n",
            "Solid = +\n",
            "Blocks = 1\n",
            "\n",
            "  0%\b\b\b\b    \b\b\b\b 28% 94 - ENF_6612_2018-12-31_M10_20190529-1610.gdb/a000000ac.gdbtable\b\b\b\b\b\b\b\b\b\b\b\b\b\b\b\b\b\b\b\b\b\b\b\b\b\b\b\b\b\b\b\b\b\b\b\b\b\b\b\b\b\b\b\b\b\b\b\b\b\b\b\b\b\b\b\b\b\b\b\b\b\b\b\b\b\b\b\b\b\b                                                                      \b\b\b\b\b\b\b\b\b\b\b\b\b\b\b\b\b\b\b\b\b\b\b\b\b\b\b\b\b\b\b\b\b\b\b\b\b\b\b\b\b\b\b\b\b\b\b\b\b\b\b\b\b\b\b\b\b\b\b\b\b\b\b\b\b\b\b\b\b\b 44% 125 - ENF_6612_2018-12-31_M10_20190529-1610.gdb/a000000b5.gdbtable\b\b\b\b\b\b\b\b\b\b\b\b\b\b\b\b\b\b\b\b\b\b\b\b\b\b\b\b\b\b\b\b\b\b\b\b\b\b\b\b\b\b\b\b\b\b\b\b\b\b\b\b\b\b\b\b\b\b\b\b\b\b\b\b\b\b\b\b\b\b\b                                                                       \b\b\b\b\b\b\b\b\b\b\b\b\b\b\b\b\b\b\b\b\b\b\b\b\b\b\b\b\b\b\b\b\b\b\b\b\b\b\b\b\b\b\b\b\b\b\b\b\b\b\b\b\b\b\b\b\b\b\b\b\b\b\b\b\b\b\b\b\b\b\b 54% 129 - ENF_6612_2018-12-31_M10_20190529-1610.gdb/a000000b6.gdbtable\b\b\b\b\b\b\b\b\b\b\b\b\b\b\b\b\b\b\b\b\b\b\b\b\b\b\b\b\b\b\b\b\b\b\b\b\b\b\b\b\b\b\b\b\b\b\b\b\b\b\b\b\b\b\b\b\b\b\b\b\b\b\b\b\b\b\b\b\b\b\b                                                                       \b\b\b\b\b\b\b\b\b\b\b\b\b\b\b\b\b\b\b\b\b\b\b\b\b\b\b\b\b\b\b\b\b\b\b\b\b\b\b\b\b\b\b\b\b\b\b\b\b\b\b\b\b\b\b\b\b\b\b\b\b\b\b\b\b\b\b\b\b\b\b 74% 143 - ENF_6612_2018-12-31_M10_20190529-1610.gdb/a000000b9.gdbtable\b\b\b\b\b\b\b\b\b\b\b\b\b\b\b\b\b\b\b\b\b\b\b\b\b\b\b\b\b\b\b\b\b\b\b\b\b\b\b\b\b\b\b\b\b\b\b\b\b\b\b\b\b\b\b\b\b\b\b\b\b\b\b\b\b\b\b\b\b\b\b                                                                       \b\b\b\b\b\b\b\b\b\b\b\b\b\b\b\b\b\b\b\b\b\b\b\b\b\b\b\b\b\b\b\b\b\b\b\b\b\b\b\b\b\b\b\b\b\b\b\b\b\b\b\b\b\b\b\b\b\b\b\b\b\b\b\b\b\b\b\b\b\b\b 98% 143 - ENF_6612_2018-12-31_M10_20190529-1610.gdb/a000000b9.gdbtable\b\b\b\b\b\b\b\b\b\b\b\b\b\b\b\b\b\b\b\b\b\b\b\b\b\b\b\b\b\b\b\b\b\b\b\b\b\b\b\b\b\b\b\b\b\b\b\b\b\b\b\b\b\b\b\b\b\b\b\b\b\b\b\b\b\b\b\b\b\b\b                                                                       \b\b\b\b\b\b\b\b\b\b\b\b\b\b\b\b\b\b\b\b\b\b\b\b\b\b\b\b\b\b\b\b\b\b\b\b\b\b\b\b\b\b\b\b\b\b\b\b\b\b\b\b\b\b\b\b\b\b\b\b\b\b\b\b\b\b\b\b\b\b\bEverything is Ok\n",
            "\n",
            "Folders: 1\n",
            "Files: 207\n",
            "Size:       84729099\n",
            "Compressed: 11687422\n"
          ],
          "name": "stdout"
        }
      ]
    },
    {
      "cell_type": "markdown",
      "metadata": {
        "id": "rnyQxUAqc8wP",
        "colab_type": "text"
      },
      "source": [
        "### I. Rutina de Curación\n",
        "\n",
        "Inicialmente, con el objetivo de preparar los datos que alimentarán futuros modelos de aprendizaje automático (ML), se propone seguir la siguiente __[checklist](https://dimewiki.worldbank.org/wiki/Checklist:_Data_Cleaning)__ para la limpieza de los datos de nuestro proyecto. Esta _checklist_ es la misma que utilizaron en el primer práctico de la materia y nos será de utilidad como guía para curar el dataset. A modo de ayuda, **en esta notebook encontrarán una especie de template** que sigue la _checklist_ y que deberán ir completando.\n",
        "\n",
        "**Cada decisión tomada deberá quedar registrada de manera explícita y clara.** Luego de pasar por todos los puntos de la _checklist_ propuesta, deberán almacenar en un nuevo archivo los datos resultantes.\n"
      ]
    },
    {
      "cell_type": "markdown",
      "metadata": {
        "id": "9828kRNmc8wQ",
        "colab_type": "text"
      },
      "source": [
        "### II. Análisis del Contenido\n",
        "\n",
        "Una vez aplicado el  _Checklist_, lo que vamos a hacer es comenzar a vincular las diferentes tablas del dataset e iniciar la generación de features geográficas\n"
      ]
    },
    {
      "cell_type": "markdown",
      "metadata": {
        "id": "rx4ohyhec8wQ",
        "colab_type": "text"
      },
      "source": [
        "# Resolución"
      ]
    },
    {
      "cell_type": "markdown",
      "metadata": {
        "id": "OIHW6fiCc8wR",
        "colab_type": "text"
      },
      "source": [
        "## I. Rutina de Curación\n",
        "\n",
        "### 1. Importación de Datos\n",
        "\n",
        "#### 1.1. Verificación de Inexistencia de Problemas en la Importación"
      ]
    },
    {
      "cell_type": "markdown",
      "metadata": {
        "id": "HQjMe4EGc8wR",
        "colab_type": "text"
      },
      "source": [
        "A partir de este punto, utilizaremos los transformadores de distribucion como elemnto de analisis tabla UNTRD, e incorporaremos datos de consumidores, subestación y líneas de distribución.\n",
        "\n",
        "Para comenzar, importamos los datos que vamos a procesar de las diferentes tablas que vamos a analizar:"
      ]
    },
    {
      "cell_type": "code",
      "metadata": {
        "colab_type": "code",
        "id": "7QiqtG-9ybT-",
        "colab": {}
      },
      "source": [
        "import geopandas as gpd\n",
        "import pandas as pd\n",
        "from shapely.geometry import Point, LineString, Polygon, MultiPoint, MultiLineString\n",
        "import sklearn\n",
        "import numpy as np\n",
        "pd.options.mode.chained_assignment = None  # default='warn'"
      ],
      "execution_count": 31,
      "outputs": []
    },
    {
      "cell_type": "code",
      "metadata": {
        "colab_type": "code",
        "id": "a-wN4MnfyTCk",
        "colab": {}
      },
      "source": [
        "# Editar con el path correspondiente a sus datos\n",
        "data_path = './Dataset/ENF_6612_2018-12-31_M10_20190529-1610.gdb'"
      ],
      "execution_count": 32,
      "outputs": []
    },
    {
      "cell_type": "code",
      "metadata": {
        "colab_type": "code",
        "id": "T1xC2lhcuRy-",
        "colab": {
          "base_uri": "https://localhost:8080/",
          "height": 136
        },
        "outputId": "d8931130-fa04-4b31-ff02-ba910470d47e"
      },
      "source": [
        "untrd = gpd.read_file(data_path, driver='FileGDB', layer='UNTRD')\n",
        "untrd.shape, untrd.columns"
      ],
      "execution_count": 33,
      "outputs": [
        {
          "output_type": "execute_result",
          "data": {
            "text/plain": [
              "((3879, 33),\n",
              " Index(['COD_ID', 'DIST', 'PAC_1', 'PAC_2', 'PAC_3', 'FAS_CON_P', 'FAS_CON_S',\n",
              "        'FAS_CON_T', 'SIT_ATIV', 'TIP_UNID', 'POS', 'ATRB_PER', 'TEN_LIN_SE',\n",
              "        'CAP_ELO', 'CAP_CHA', 'TAP', 'CONF', 'POSTO', 'POT_NOM', 'PER_FER',\n",
              "        'PER_TOT', 'DAT_CON', 'CTMT', 'UNI_TR_S', 'SUB', 'CONJ', 'MUN', 'BANC',\n",
              "        'TIP_TRAFO', 'MRT', 'DESCR', 'ARE_LOC', 'geometry'],\n",
              "       dtype='object'))"
            ]
          },
          "metadata": {
            "tags": []
          },
          "execution_count": 33
        }
      ]
    },
    {
      "cell_type": "code",
      "metadata": {
        "colab_type": "code",
        "id": "F0yigp8pyWvx",
        "colab": {
          "base_uri": "https://localhost:8080/",
          "height": 204
        },
        "outputId": "c03d77b9-ea88-415e-8135-bc553ec930f5"
      },
      "source": [
        "untrs = gpd.read_file(data_path, driver='FileGDB', layer='UNTRS')\n",
        "untrs.shape, untrs.columns"
      ],
      "execution_count": 34,
      "outputs": [
        {
          "output_type": "execute_result",
          "data": {
            "text/plain": [
              "((6, 53),\n",
              " Index(['COD_ID', 'SUB', 'BARR_1', 'BARR_2', 'BARR_3', 'PAC_1', 'PAC_2',\n",
              "        'PAC_3', 'DIST', 'FAS_CON_P', 'FAS_CON_S', 'FAS_CON_T', 'SIT_ATIV',\n",
              "        'TIP_UNID', 'POS', 'POT_NOM', 'POT_F01', 'POT_F02', 'PER_FER',\n",
              "        'PER_TOT', 'BANC', 'DAT_CON', 'CONJ', 'MUN', 'TIP_TRAFO', 'ALOC_PERD',\n",
              "        'ENES_01', 'ENES_02', 'ENES_03', 'ENES_04', 'ENES_05', 'ENES_06',\n",
              "        'ENES_07', 'ENES_08', 'ENES_09', 'ENES_10', 'ENES_11', 'ENES_12',\n",
              "        'ENET_01', 'ENET_02', 'ENET_03', 'ENET_04', 'ENET_05', 'ENET_06',\n",
              "        'ENET_07', 'ENET_08', 'ENET_09', 'ENET_10', 'ENET_11', 'ENET_12',\n",
              "        'DESCR', 'ARE_LOC', 'geometry'],\n",
              "       dtype='object'))"
            ]
          },
          "metadata": {
            "tags": []
          },
          "execution_count": 34
        }
      ]
    },
    {
      "cell_type": "code",
      "metadata": {
        "colab_type": "code",
        "id": "neS4sBkdzboc",
        "colab": {
          "base_uri": "https://localhost:8080/",
          "height": 119
        },
        "outputId": "704b0ebd-022d-48c1-bd9b-b13f6d4c220e"
      },
      "source": [
        "ssmt = gpd.read_file(data_path, driver='FileGDB', layer='SSDMT')\n",
        "ssmt.shape, ssmt.columns"
      ],
      "execution_count": 35,
      "outputs": [
        {
          "output_type": "execute_result",
          "data": {
            "text/plain": [
              "((24929, 24),\n",
              " Index(['COD_ID', 'PN_CON_1', 'PN_CON_2', 'CTMT', 'UNI_TR_S', 'SUB', 'CONJ',\n",
              "        'DIST', 'PAC_1', 'PAC_2', 'FAS_CON', 'TIP_CND', 'POS', 'ODI_FAS',\n",
              "        'TI_FAS', 'ODI_NEU', 'TI_NEU', 'COMP', 'DESCR', 'SITCONTFAS',\n",
              "        'SITCONTNEU', 'ARE_LOC', 'Shape_Length', 'geometry'],\n",
              "       dtype='object'))"
            ]
          },
          "metadata": {
            "tags": []
          },
          "execution_count": 35
        }
      ]
    },
    {
      "cell_type": "code",
      "metadata": {
        "colab_type": "code",
        "id": "Sp2Ewh9L0cke",
        "colab": {
          "base_uri": "https://localhost:8080/",
          "height": 170
        },
        "outputId": "4b8dad67-709d-491c-d00f-bce59e6e9f83"
      },
      "source": [
        "segcon = gpd.read_file(data_path, driver='FileGDB', layer='SEGCON')\n",
        "segcon.shape, segcon.columns"
      ],
      "execution_count": 36,
      "outputs": [
        {
          "output_type": "execute_result",
          "data": {
            "text/plain": [
              "((90, 40),\n",
              " Index(['COD_ID', 'DIST', 'GEOM_CAB', 'FORM_CAB', 'MAT_FAS_1', 'MAT_FAS_2',\n",
              "        'MAT_FAS_3', 'MAT_NEU', 'ISO_FAS_1', 'ISO_FAS_2', 'ISO_FAS_3',\n",
              "        'ISO_NEU', 'CND_FAS', 'R1', 'X1', 'FTRCNV', 'CNOM', 'CMAX', 'CM_FAS',\n",
              "        'TUC_FAS', 'A1_FAS', 'A2_FAS', 'A3_FAS', 'A4_FAS', 'A5_FAS', 'A6_FAS',\n",
              "        'CM_NEU', 'TUC_NEU', 'A1_NEU', 'A2_NEU', 'A3_NEU', 'A4_NEU', 'A5_NEU',\n",
              "        'A6_NEU', 'DESCR', 'BIT_FAS_1', 'BIT_FAS_2', 'BIT_FAS_3', 'BIT_NEU',\n",
              "        'geometry'],\n",
              "       dtype='object'))"
            ]
          },
          "metadata": {
            "tags": []
          },
          "execution_count": 36
        }
      ]
    },
    {
      "cell_type": "code",
      "metadata": {
        "colab_type": "code",
        "id": "KacEd34JzdO4",
        "colab": {
          "base_uri": "https://localhost:8080/",
          "height": 153
        },
        "outputId": "5663fd42-2cd8-4d2a-d0a9-d88fb062230e"
      },
      "source": [
        "ucbt = gpd.read_file(data_path, driver='FileGDB', layer='UCBT')\n",
        "ucbt.shape, ucbt.columns"
      ],
      "execution_count": 37,
      "outputs": [
        {
          "output_type": "execute_result",
          "data": {
            "text/plain": [
              "((108346, 40),\n",
              " Index(['DIST', 'PAC', 'PN_CON', 'UNI_TR_D', 'CTMT', 'UNI_TR_S', 'SUB', 'CONJ',\n",
              "        'MUN', 'BRR', 'CEP', 'CLAS_SUB', 'CNAE', 'TIP_CC', 'FAS_CON', 'GRU_TEN',\n",
              "        'TEN_FORN', 'GRU_TAR', 'SIT_ATIV', 'DAT_CON', 'CAR_INST', 'LIV',\n",
              "        'ENE_01', 'ENE_02', 'ENE_03', 'ENE_04', 'ENE_05', 'ENE_06', 'ENE_07',\n",
              "        'ENE_08', 'ENE_09', 'ENE_10', 'ENE_11', 'ENE_12', 'DIC', 'FIC',\n",
              "        'SEMRED', 'DESCR', 'ARE_LOC', 'geometry'],\n",
              "       dtype='object'))"
            ]
          },
          "metadata": {
            "tags": []
          },
          "execution_count": 37
        }
      ]
    },
    {
      "cell_type": "code",
      "metadata": {
        "id": "ad6kP8Iqc8wh",
        "colab_type": "code",
        "colab": {}
      },
      "source": [
        "# Agrupando Variables\n",
        "\n",
        "ucbt['ENE_MED'] = ucbt[['ENE_01', 'ENE_02', 'ENE_03', 'ENE_04', 'ENE_05', 'ENE_06', 'ENE_07','ENE_08', 'ENE_09', 'ENE_10', 'ENE_11', 'ENE_12']].mean(axis=1)\n",
        "ucbt['ENE_STD'] = ucbt[['ENE_01', 'ENE_02', 'ENE_03', 'ENE_04', 'ENE_05', 'ENE_06', 'ENE_07','ENE_08', 'ENE_09', 'ENE_10', 'ENE_11', 'ENE_12']].std(axis=1)\n",
        "ucbt['ENE_MAX'] = ucbt[['ENE_01', 'ENE_02', 'ENE_03', 'ENE_04', 'ENE_05', 'ENE_06', 'ENE_07','ENE_08', 'ENE_09', 'ENE_10', 'ENE_11', 'ENE_12']].max(axis=1)"
      ],
      "execution_count": 38,
      "outputs": []
    },
    {
      "cell_type": "markdown",
      "metadata": {
        "id": "gchUe6yec8wj",
        "colab_type": "text"
      },
      "source": [
        "### 1.2. Asegurar la Existencia de IDs o Claves Únicas"
      ]
    },
    {
      "cell_type": "markdown",
      "metadata": {
        "id": "v0wRPRduc8wj",
        "colab_type": "text"
      },
      "source": [
        "El siguiente paso implica chequear que no existen datos duplicados y que las claves, si existen, son únicas.\n",
        "\n",
        "Las claves únicas de las diferentes tablas es el COD_ID, como figura en la documentación. En el caso de la tabla UCBT fue eliminado por el proveedor de los datos por lo que asumiremos que los datos son únicos. Podriamos regenerar el COD_ID con un valor secuencial, pero como vamos a utilizar la tabla UNTRD como elementos de análisis no será necesario"
      ]
    },
    {
      "cell_type": "code",
      "metadata": {
        "id": "gfcmuxiIc8wk",
        "colab_type": "code",
        "colab": {
          "base_uri": "https://localhost:8080/",
          "height": 85
        },
        "outputId": "a344aa93-9923-4c03-9c32-eb7dab5f918a"
      },
      "source": [
        "print(untrd['COD_ID'].is_unique)\n",
        "print(untrs['COD_ID'].is_unique)\n",
        "print(ssmt['COD_ID'].is_unique)\n",
        "print(segcon['COD_ID'].is_unique)"
      ],
      "execution_count": 39,
      "outputs": [
        {
          "output_type": "stream",
          "text": [
            "True\n",
            "True\n",
            "True\n",
            "True\n"
          ],
          "name": "stdout"
        }
      ]
    },
    {
      "cell_type": "markdown",
      "metadata": {
        "id": "x_QuMTq4c8wm",
        "colab_type": "text"
      },
      "source": [
        "Como podemos observar las claves COD_ID en los diferentes Dataframes son únicas."
      ]
    },
    {
      "cell_type": "markdown",
      "metadata": {
        "id": "opqft4Gcc8wm",
        "colab_type": "text"
      },
      "source": [
        "### 1.3. Despersonalizar Datos y Guardarlos en un Nuevo Archivo"
      ]
    },
    {
      "cell_type": "markdown",
      "metadata": {
        "id": "YmUMrfRLc8wm",
        "colab_type": "text"
      },
      "source": [
        "En este caso, no es necesario despersonalizar ningún dato, dado que los mismos ya se encuentran despersonalizados."
      ]
    },
    {
      "cell_type": "markdown",
      "metadata": {
        "id": "drWOvA1Hc8wn",
        "colab_type": "text"
      },
      "source": [
        "### 1.4. Nunca Modificar los Datos Crudos u Originales"
      ]
    },
    {
      "cell_type": "markdown",
      "metadata": {
        "id": "PrTOL3BRc8wn",
        "colab_type": "text"
      },
      "source": [
        "Al finalizar la limpieza, deberán guardar el dataset resultante, para asegurarse de no modificar los datos originales."
      ]
    },
    {
      "cell_type": "markdown",
      "metadata": {
        "id": "2W51fPGkc8wn",
        "colab_type": "text"
      },
      "source": [
        "## 2. Pasos de Limpieza Necesarios\n",
        "\n",
        "### 2.1. Etiquetas de Variables/Columnas y Problemas de Codificación/Encoding"
      ]
    },
    {
      "cell_type": "markdown",
      "metadata": {
        "id": "Odq-w9ubc8wo",
        "colab_type": "text"
      },
      "source": [
        "El geopandas automáticamente detecta el encoding de los datos. "
      ]
    },
    {
      "cell_type": "markdown",
      "metadata": {
        "id": "GljOPvsrc8wo",
        "colab_type": "text"
      },
      "source": [
        "### 2.2. Tratamiento de Valores Faltantes"
      ]
    },
    {
      "cell_type": "markdown",
      "metadata": {
        "id": "8xwvVqwbc8wo",
        "colab_type": "text"
      },
      "source": [
        "Para analizar los valores faltantes, primero deberán saber cuántos existen por campo y cuánto representan del total:"
      ]
    },
    {
      "cell_type": "markdown",
      "metadata": {
        "id": "mKnZok3Wc8wp",
        "colab_type": "text"
      },
      "source": [
        "### 2.3. Codificación de Variables Categóricas"
      ]
    },
    {
      "cell_type": "markdown",
      "metadata": {
        "id": "fn8bJJ_Cc8wp",
        "colab_type": "text"
      },
      "source": [
        "Aplica?"
      ]
    },
    {
      "cell_type": "markdown",
      "metadata": {
        "id": "ItyqLPFVc8wp",
        "colab_type": "text"
      },
      "source": [
        "Para este punto, las variables que consideramos relevantes a codificar son las siguientes variables:\n",
        "    -ARE_LOC, el tipo de area.\n",
        "    -GRU_TAR, el grupo tarifario"
      ]
    },
    {
      "cell_type": "code",
      "metadata": {
        "id": "F5pgJ8lPc8wq",
        "colab_type": "code",
        "colab": {}
      },
      "source": [
        "from sklearn import preprocessing\n",
        "datasets = {'untrd': untrd, 'ucbt': ucbt}\n",
        "columns_to_encode = ['ARE_LOC', 'GRU_TAR']\n",
        "\n",
        "for key, dataset in datasets.items():\n",
        "    for column in columns_to_encode:\n",
        "        if column in dataset:\n",
        "            le = preprocessing.LabelEncoder()\n",
        "            le.fit(dataset[column])\n",
        "            dataset[column] = le.transform(dataset[column])"
      ],
      "execution_count": 40,
      "outputs": []
    },
    {
      "cell_type": "markdown",
      "metadata": {
        "id": "apAA9FHbc8wt",
        "colab_type": "text"
      },
      "source": [
        "### 2.4. No Cambiar los Nombres de las Variables de la Fuente de Origen"
      ]
    },
    {
      "cell_type": "markdown",
      "metadata": {
        "id": "p_9658Y_fgNJ",
        "colab_type": "text"
      },
      "source": [
        "No aplica."
      ]
    },
    {
      "cell_type": "markdown",
      "metadata": {
        "id": "l_Ti3qE6c8wv",
        "colab_type": "text"
      },
      "source": [
        "### 2.5. Verificación de Consistencia de Datos"
      ]
    },
    {
      "cell_type": "markdown",
      "metadata": {
        "id": "uo5lepJlc8wv",
        "colab_type": "text"
      },
      "source": [
        "Este es el paso más analítico, en donde se deben aplicar reglas de integridad."
      ]
    },
    {
      "cell_type": "markdown",
      "metadata": {
        "id": "eTfNjEeCc8ww",
        "colab_type": "text"
      },
      "source": [
        "Para este paso vamos a verificar la integridad de la entidad:\n",
        "    -Que no existan claves repetidas(es decir atributos COD_ID). Anteriormente hemos observado que estos atributos son únicos.\n",
        "    -Además vamos a eliminar las filas que tengan algun valor Nan. \n"
      ]
    },
    {
      "cell_type": "code",
      "metadata": {
        "id": "_NkRebggc8ww",
        "colab_type": "code",
        "colab": {}
      },
      "source": [
        "untrd = untrd.dropna()\n",
        "untrs = untrs.dropna()\n",
        "ssmt = ssmt.dropna()\n",
        "segcon = segcon.dropna()\n",
        "ucbt = ucbt.dropna()"
      ],
      "execution_count": 41,
      "outputs": []
    },
    {
      "cell_type": "markdown",
      "metadata": {
        "id": "tzo9GDhMc8wy",
        "colab_type": "text"
      },
      "source": [
        "### 2.6. Identificar y Documentar Valores Atípicos/Outliers"
      ]
    },
    {
      "cell_type": "markdown",
      "metadata": {
        "id": "MmFQcxEKc8wz",
        "colab_type": "text"
      },
      "source": [
        "Calcular estadísticos."
      ]
    },
    {
      "cell_type": "code",
      "metadata": {
        "id": "TYk8kSQwc8wz",
        "colab_type": "code",
        "colab": {
          "base_uri": "https://localhost:8080/",
          "height": 136
        },
        "outputId": "bdfe6d48-06b1-451d-f1ba-c364076161e8"
      },
      "source": [
        "def find_outliers(dataset, column_name):\n",
        "    interesting_col = dataset[column_name]\n",
        "    CI =  (interesting_col.quantile(0.75)-interesting_col.quantile(0.25))\n",
        "    mask_outlier = (\n",
        "        np.abs(interesting_col - interesting_col.median()) >= (1.5 * CI))\n",
        "    return dataset[mask_outlier]\n",
        "\n",
        "\n",
        "main_statisticians = ['FIC', 'DIC', 'ENE_MED']\n",
        "\n",
        "outliers = []\n",
        "for key, dataset in datasets.items():\n",
        "    print(\"Dataset: \", key)\n",
        "    for column in main_statisticians:\n",
        "        if column in dataset:\n",
        "            outliers = find_outliers(dataset, column)\n",
        "            row_quantity = dataset.shape[0]\n",
        "            print(\"Cantidad de outliers para la variable \", column, len(outliers))\n",
        "    print(\"------------------------------------------------\")"
      ],
      "execution_count": 42,
      "outputs": [
        {
          "output_type": "stream",
          "text": [
            "Dataset:  untrd\n",
            "------------------------------------------------\n",
            "Dataset:  ucbt\n",
            "Cantidad de outliers para la variable  FIC 12360\n",
            "Cantidad de outliers para la variable  DIC 15122\n",
            "Cantidad de outliers para la variable  ENE_MED 8363\n",
            "------------------------------------------------\n"
          ],
          "name": "stdout"
        }
      ]
    },
    {
      "cell_type": "code",
      "metadata": {
        "id": "t6iqY2joc8w1",
        "colab_type": "code",
        "colab": {}
      },
      "source": [
        "# Procedemos a limpiar los outliers para la layer ucbt\n",
        "def clean_outliers(dataset, column_name):\n",
        "    interesting_col = dataset[column_name]\n",
        "    CI =  (interesting_col.quantile(0.75)-interesting_col.quantile(0.25))\n",
        "    mask_outlier = (\n",
        "        np.abs(interesting_col - interesting_col.median()) <= (1.5 * CI))\n",
        "    return dataset[mask_outlier]\n",
        "\n",
        "\n",
        "for column in main_statisticians:\n",
        "    ucbt_without_outliers = clean_outliers(ucbt, column)\n",
        "datasets['ucbt'] = ucbt_without_outliers\n"
      ],
      "execution_count": 43,
      "outputs": []
    },
    {
      "cell_type": "markdown",
      "metadata": {
        "id": "XAvGCRH-c8w2",
        "colab_type": "text"
      },
      "source": [
        "### 2.7. Evaluar Cómo Comprimir los Datos Para su Almacenamiento Más Eficiente"
      ]
    },
    {
      "cell_type": "markdown",
      "metadata": {
        "id": "L6Muyo6dfd5c",
        "colab_type": "text"
      },
      "source": [
        "No aplica."
      ]
    },
    {
      "cell_type": "markdown",
      "metadata": {
        "id": "7JT8Uggdc8w4",
        "colab_type": "text"
      },
      "source": [
        "### 2.8. Guardar el Set de Datos con un Nombre Informativo"
      ]
    },
    {
      "cell_type": "markdown",
      "metadata": {
        "id": "opmmfw1efivi",
        "colab_type": "text"
      },
      "source": [
        "No aplica."
      ]
    },
    {
      "cell_type": "markdown",
      "metadata": {
        "id": "Rblt97-0c8w6",
        "colab_type": "text"
      },
      "source": [
        "## 3. Pasos de Limpieza Deseables\n",
        "\n",
        "### 3.1. Ordenar Variables/Columnas"
      ]
    },
    {
      "cell_type": "markdown",
      "metadata": {
        "id": "SpcLbM5Jc8w6",
        "colab_type": "text"
      },
      "source": [
        "No Aplica"
      ]
    },
    {
      "cell_type": "markdown",
      "metadata": {
        "id": "Squ2VmOQc8w7",
        "colab_type": "text"
      },
      "source": [
        "### 3.2. Quitar Variables/Columnas Irrelevantes"
      ]
    },
    {
      "cell_type": "markdown",
      "metadata": {
        "id": "8cndunurc8w7",
        "colab_type": "text"
      },
      "source": [
        "Tenemos alguna en este caso?"
      ]
    },
    {
      "cell_type": "markdown",
      "metadata": {
        "id": "wQLPH-9rc8w7",
        "colab_type": "text"
      },
      "source": [
        "Por el momento, para la layer \"ucbt\", nos quedaremos solamente con:\n",
        "    \n",
        "    -GRU_TAR\n",
        "    -UNI_TR_D\n",
        "    -UNI_TR_S \n",
        "    -DIC\n",
        "    -FIC\n",
        "    -ENE_MED\n",
        "    -ENE_STD\n",
        "    -ENE_MAX"
      ]
    },
    {
      "cell_type": "markdown",
      "metadata": {
        "id": "_UR2pubQfycp",
        "colab_type": "text"
      },
      "source": [
        "Para la \"layer\" untrd, nos quedaremos con las siguientes variables:\n",
        "\n",
        "    -COD_ID\n",
        "    -UNI_TR_S\n",
        "    -ARE_LOC\n",
        "    -geometry"
      ]
    },
    {
      "cell_type": "code",
      "metadata": {
        "id": "_dZnBO1Fc8w8",
        "colab_type": "code",
        "colab": {}
      },
      "source": [
        "datasets['ucbt'].drop(datasets['ucbt'].columns.difference(['GRU_TAR', 'UNI_TR_D', 'UNI_TR_S', 'DIC', 'FIC', 'ENE_MED', 'ENE_MAX']), 1, inplace=True)"
      ],
      "execution_count": 44,
      "outputs": []
    },
    {
      "cell_type": "code",
      "metadata": {
        "id": "MTCUZgBnc8w-",
        "colab_type": "code",
        "colab": {}
      },
      "source": [
        "datasets['untrd'].drop(datasets['untrd'].columns.difference(['COD_ID', 'UNI_TR_S', 'ARE_LOC', 'geometry']), 1, inplace=True)"
      ],
      "execution_count": 45,
      "outputs": []
    },
    {
      "cell_type": "markdown",
      "metadata": {
        "id": "D5IOx6rdc8w_",
        "colab_type": "text"
      },
      "source": [
        "### 3.3. Renombrar Variables de Grillas"
      ]
    },
    {
      "cell_type": "markdown",
      "metadata": {
        "id": "5yWMwpbzgKC-",
        "colab_type": "text"
      },
      "source": [
        "No aplica."
      ]
    },
    {
      "cell_type": "markdown",
      "metadata": {
        "id": "F5WvQVjIc8xB",
        "colab_type": "text"
      },
      "source": [
        "### 3.4. Categorizar Variables que Contengan “Otros”"
      ]
    },
    {
      "cell_type": "markdown",
      "metadata": {
        "id": "0vjPKsr8gNAk",
        "colab_type": "text"
      },
      "source": [
        "No aplica."
      ]
    },
    {
      "cell_type": "markdown",
      "metadata": {
        "id": "j1APPU0Cc8xE",
        "colab_type": "text"
      },
      "source": [
        "### 3.5. Agregar Metadata a los Datos"
      ]
    },
    {
      "cell_type": "markdown",
      "metadata": {
        "id": "69GzRe4fgYz0",
        "colab_type": "text"
      },
      "source": [
        "No aplica."
      ]
    },
    {
      "cell_type": "markdown",
      "metadata": {
        "id": "eY-RRNsyc8xH",
        "colab_type": "text"
      },
      "source": [
        "## II. Análisis  Contenido"
      ]
    },
    {
      "cell_type": "markdown",
      "metadata": {
        "id": "zFM9AC63c8xH",
        "colab_type": "text"
      },
      "source": [
        "### 1. Features Tipo Objetos"
      ]
    },
    {
      "cell_type": "code",
      "metadata": {
        "id": "1u73C3TEc8xI",
        "colab_type": "code",
        "colab": {
          "base_uri": "https://localhost:8080/",
          "height": 419
        },
        "outputId": "78ed4578-215e-4699-b138-6c29a66e566a"
      },
      "source": [
        "import scipy as sc\n",
        "datasets['ucbt'] = datasets['ucbt'].groupby(['UNI_TR_D']).agg(GRU_TAR=('GRU_TAR',lambda x: sc.stats.mode(x)[0]),\n",
        "                                                              DIC=('DIC',np.sum),FIC=('FIC',np.sum),ENE_MED=('ENE_MED',np.mean),\n",
        "                                                              ENE_MAX=('ENE_MAX',np.sum)).reset_index()\n",
        "datasets['ucbt']"
      ],
      "execution_count": 46,
      "outputs": [
        {
          "output_type": "execute_result",
          "data": {
            "text/html": [
              "<div>\n",
              "<style scoped>\n",
              "    .dataframe tbody tr th:only-of-type {\n",
              "        vertical-align: middle;\n",
              "    }\n",
              "\n",
              "    .dataframe tbody tr th {\n",
              "        vertical-align: top;\n",
              "    }\n",
              "\n",
              "    .dataframe thead th {\n",
              "        text-align: right;\n",
              "    }\n",
              "</style>\n",
              "<table border=\"1\" class=\"dataframe\">\n",
              "  <thead>\n",
              "    <tr style=\"text-align: right;\">\n",
              "      <th></th>\n",
              "      <th>UNI_TR_D</th>\n",
              "      <th>GRU_TAR</th>\n",
              "      <th>DIC</th>\n",
              "      <th>FIC</th>\n",
              "      <th>ENE_MED</th>\n",
              "      <th>ENE_MAX</th>\n",
              "    </tr>\n",
              "  </thead>\n",
              "  <tbody>\n",
              "    <tr>\n",
              "      <th>0</th>\n",
              "      <td></td>\n",
              "      <td>1</td>\n",
              "      <td>36.66</td>\n",
              "      <td>10.0</td>\n",
              "      <td>29.750000</td>\n",
              "      <td>2890.0</td>\n",
              "    </tr>\n",
              "    <tr>\n",
              "      <th>1</th>\n",
              "      <td>101415715</td>\n",
              "      <td>1</td>\n",
              "      <td>76.55</td>\n",
              "      <td>28.0</td>\n",
              "      <td>97.791667</td>\n",
              "      <td>372.0</td>\n",
              "    </tr>\n",
              "    <tr>\n",
              "      <th>2</th>\n",
              "      <td>102321736</td>\n",
              "      <td>1</td>\n",
              "      <td>17.18</td>\n",
              "      <td>7.0</td>\n",
              "      <td>1.000000</td>\n",
              "      <td>5.0</td>\n",
              "    </tr>\n",
              "    <tr>\n",
              "      <th>3</th>\n",
              "      <td>103455355</td>\n",
              "      <td>1</td>\n",
              "      <td>8.31</td>\n",
              "      <td>7.0</td>\n",
              "      <td>91.333333</td>\n",
              "      <td>116.0</td>\n",
              "    </tr>\n",
              "    <tr>\n",
              "      <th>4</th>\n",
              "      <td>105138826</td>\n",
              "      <td>1</td>\n",
              "      <td>16.10</td>\n",
              "      <td>12.0</td>\n",
              "      <td>13.583333</td>\n",
              "      <td>35.0</td>\n",
              "    </tr>\n",
              "    <tr>\n",
              "      <th>...</th>\n",
              "      <td>...</td>\n",
              "      <td>...</td>\n",
              "      <td>...</td>\n",
              "      <td>...</td>\n",
              "      <td>...</td>\n",
              "      <td>...</td>\n",
              "    </tr>\n",
              "    <tr>\n",
              "      <th>3331</th>\n",
              "      <td>92651766</td>\n",
              "      <td>1</td>\n",
              "      <td>14.10</td>\n",
              "      <td>6.0</td>\n",
              "      <td>2.300000</td>\n",
              "      <td>57.0</td>\n",
              "    </tr>\n",
              "    <tr>\n",
              "      <th>3332</th>\n",
              "      <td>96872663</td>\n",
              "      <td>1</td>\n",
              "      <td>63.58</td>\n",
              "      <td>20.0</td>\n",
              "      <td>8.083333</td>\n",
              "      <td>30.0</td>\n",
              "    </tr>\n",
              "    <tr>\n",
              "      <th>3333</th>\n",
              "      <td>96997174</td>\n",
              "      <td>1</td>\n",
              "      <td>59.51</td>\n",
              "      <td>18.0</td>\n",
              "      <td>36.916667</td>\n",
              "      <td>49.0</td>\n",
              "    </tr>\n",
              "    <tr>\n",
              "      <th>3334</th>\n",
              "      <td>97134637</td>\n",
              "      <td>1</td>\n",
              "      <td>20.91</td>\n",
              "      <td>11.0</td>\n",
              "      <td>112.416667</td>\n",
              "      <td>221.0</td>\n",
              "    </tr>\n",
              "    <tr>\n",
              "      <th>3335</th>\n",
              "      <td>99418993</td>\n",
              "      <td>1</td>\n",
              "      <td>34.43</td>\n",
              "      <td>12.0</td>\n",
              "      <td>125.833333</td>\n",
              "      <td>346.0</td>\n",
              "    </tr>\n",
              "  </tbody>\n",
              "</table>\n",
              "<p>3336 rows × 6 columns</p>\n",
              "</div>"
            ],
            "text/plain": [
              "       UNI_TR_D  GRU_TAR    DIC   FIC     ENE_MED  ENE_MAX\n",
              "0                      1  36.66  10.0   29.750000   2890.0\n",
              "1     101415715        1  76.55  28.0   97.791667    372.0\n",
              "2     102321736        1  17.18   7.0    1.000000      5.0\n",
              "3     103455355        1   8.31   7.0   91.333333    116.0\n",
              "4     105138826        1  16.10  12.0   13.583333     35.0\n",
              "...         ...      ...    ...   ...         ...      ...\n",
              "3331   92651766        1  14.10   6.0    2.300000     57.0\n",
              "3332   96872663        1  63.58  20.0    8.083333     30.0\n",
              "3333   96997174        1  59.51  18.0   36.916667     49.0\n",
              "3334   97134637        1  20.91  11.0  112.416667    221.0\n",
              "3335   99418993        1  34.43  12.0  125.833333    346.0\n",
              "\n",
              "[3336 rows x 6 columns]"
            ]
          },
          "metadata": {
            "tags": []
          },
          "execution_count": 46
        }
      ]
    },
    {
      "cell_type": "markdown",
      "metadata": {
        "colab_type": "text",
        "id": "pa-bOWcEhua5"
      },
      "source": [
        "## Consumidores\n",
        "\n",
        "1 - A partir de los resultados obtenidos en el práctico 1 seleccione que features podrían ser relevantes para la predicción de la calidad de servicio.\n",
        "\n",
        "2 - Agrupe los datos en base a la variable UNI_TR_D.\n",
        "\n",
        "3 - Justifique los métodos utilizados para agrupar las variables numéricas y categóricas."
      ]
    },
    {
      "cell_type": "markdown",
      "metadata": {
        "id": "K6_CQz06c8xK",
        "colab_type": "text"
      },
      "source": [
        "Para agrupar los datos, utilizamos la funcion \"groupby\", en donde agrupamos por la variable UNI_TR_D y a las demas columnas que teniamos decidimos agruparlas por lo siguiente:\n",
        "\n",
        "    -GRU_TAR: tomamos su moda\n",
        "    -DIC: calculamos su suma\n",
        "    -FIC: calculamos su suma\n",
        "    -ARE_LOC: tomamos su moda\n",
        "    -ENE_MED: calculamos su promedio\n",
        "    -ENE_MAX: calculamos su suma"
      ]
    },
    {
      "cell_type": "markdown",
      "metadata": {
        "colab_type": "text",
        "id": "L9pgI86JjO8v"
      },
      "source": [
        "## Subestación\n",
        "\n",
        "4 - Analice la información disponible sobre los transformadores de las Subestaciones (UNI_TR_S > UNTRS)\n",
        "\n",
        "5 - Seleccione las variables relevantes, realice un tratamiento de valores invalidos y outliers correspondientes. Agrupe los valores por UNTRD y agregue al dataset."
      ]
    },
    {
      "cell_type": "code",
      "metadata": {
        "id": "d4OX6hQHc8xL",
        "colab_type": "code",
        "colab": {
          "base_uri": "https://localhost:8080/",
          "height": 419
        },
        "outputId": "ea6f48cd-0efa-4e7a-9eff-193173a0acaf"
      },
      "source": [
        "datasets['untrd']"
      ],
      "execution_count": 47,
      "outputs": [
        {
          "output_type": "execute_result",
          "data": {
            "text/html": [
              "<div>\n",
              "<style scoped>\n",
              "    .dataframe tbody tr th:only-of-type {\n",
              "        vertical-align: middle;\n",
              "    }\n",
              "\n",
              "    .dataframe tbody tr th {\n",
              "        vertical-align: top;\n",
              "    }\n",
              "\n",
              "    .dataframe thead th {\n",
              "        text-align: right;\n",
              "    }\n",
              "</style>\n",
              "<table border=\"1\" class=\"dataframe\">\n",
              "  <thead>\n",
              "    <tr style=\"text-align: right;\">\n",
              "      <th></th>\n",
              "      <th>COD_ID</th>\n",
              "      <th>UNI_TR_S</th>\n",
              "      <th>ARE_LOC</th>\n",
              "      <th>geometry</th>\n",
              "    </tr>\n",
              "  </thead>\n",
              "  <tbody>\n",
              "    <tr>\n",
              "      <th>0</th>\n",
              "      <td>26877970</td>\n",
              "      <td>27707625</td>\n",
              "      <td>0</td>\n",
              "      <td>POINT (-42.59528 -22.19312)</td>\n",
              "    </tr>\n",
              "    <tr>\n",
              "      <th>1</th>\n",
              "      <td>26877971</td>\n",
              "      <td>27707625</td>\n",
              "      <td>0</td>\n",
              "      <td>POINT (-42.59618 -22.19249)</td>\n",
              "    </tr>\n",
              "    <tr>\n",
              "      <th>2</th>\n",
              "      <td>26877972</td>\n",
              "      <td>27707625</td>\n",
              "      <td>0</td>\n",
              "      <td>POINT (-42.59800 -22.19074)</td>\n",
              "    </tr>\n",
              "    <tr>\n",
              "      <th>3</th>\n",
              "      <td>26877973</td>\n",
              "      <td>27707625</td>\n",
              "      <td>0</td>\n",
              "      <td>POINT (-42.60002 -22.18566)</td>\n",
              "    </tr>\n",
              "    <tr>\n",
              "      <th>4</th>\n",
              "      <td>26877974</td>\n",
              "      <td>27707625</td>\n",
              "      <td>0</td>\n",
              "      <td>POINT (-42.60887 -22.20177)</td>\n",
              "    </tr>\n",
              "    <tr>\n",
              "      <th>...</th>\n",
              "      <td>...</td>\n",
              "      <td>...</td>\n",
              "      <td>...</td>\n",
              "      <td>...</td>\n",
              "    </tr>\n",
              "    <tr>\n",
              "      <th>3874</th>\n",
              "      <td>26876494</td>\n",
              "      <td>27707534</td>\n",
              "      <td>0</td>\n",
              "      <td>POINT (-42.32841 -22.37498)</td>\n",
              "    </tr>\n",
              "    <tr>\n",
              "      <th>3875</th>\n",
              "      <td>26876495</td>\n",
              "      <td>27707534</td>\n",
              "      <td>0</td>\n",
              "      <td>POINT (-42.31524 -22.31688)</td>\n",
              "    </tr>\n",
              "    <tr>\n",
              "      <th>3876</th>\n",
              "      <td>26876496</td>\n",
              "      <td>27707534</td>\n",
              "      <td>0</td>\n",
              "      <td>POINT (-42.30362 -22.31482)</td>\n",
              "    </tr>\n",
              "    <tr>\n",
              "      <th>3877</th>\n",
              "      <td>26876497</td>\n",
              "      <td>27707534</td>\n",
              "      <td>0</td>\n",
              "      <td>POINT (-42.30930 -22.37747)</td>\n",
              "    </tr>\n",
              "    <tr>\n",
              "      <th>3878</th>\n",
              "      <td>26876498</td>\n",
              "      <td>27707534</td>\n",
              "      <td>0</td>\n",
              "      <td>POINT (-42.28612 -22.32659)</td>\n",
              "    </tr>\n",
              "  </tbody>\n",
              "</table>\n",
              "<p>3879 rows × 4 columns</p>\n",
              "</div>"
            ],
            "text/plain": [
              "        COD_ID  UNI_TR_S  ARE_LOC                     geometry\n",
              "0     26877970  27707625        0  POINT (-42.59528 -22.19312)\n",
              "1     26877971  27707625        0  POINT (-42.59618 -22.19249)\n",
              "2     26877972  27707625        0  POINT (-42.59800 -22.19074)\n",
              "3     26877973  27707625        0  POINT (-42.60002 -22.18566)\n",
              "4     26877974  27707625        0  POINT (-42.60887 -22.20177)\n",
              "...        ...       ...      ...                          ...\n",
              "3874  26876494  27707534        0  POINT (-42.32841 -22.37498)\n",
              "3875  26876495  27707534        0  POINT (-42.31524 -22.31688)\n",
              "3876  26876496  27707534        0  POINT (-42.30362 -22.31482)\n",
              "3877  26876497  27707534        0  POINT (-42.30930 -22.37747)\n",
              "3878  26876498  27707534        0  POINT (-42.28612 -22.32659)\n",
              "\n",
              "[3879 rows x 4 columns]"
            ]
          },
          "metadata": {
            "tags": []
          },
          "execution_count": 47
        }
      ]
    },
    {
      "cell_type": "code",
      "metadata": {
        "id": "O5-hI2gkc8xN",
        "colab_type": "code",
        "colab": {
          "base_uri": "https://localhost:8080/",
          "height": 419
        },
        "outputId": "1ae21eae-2924-4714-87f4-37feab571278"
      },
      "source": [
        "untrd_with_ucbt_grouped = datasets['ucbt'].merge(datasets['untrd'], left_on='UNI_TR_D', right_on='COD_ID')\n",
        "untrd_with_ucbt_grouped = untrd_with_ucbt_grouped.drop(['COD_ID'], axis=1)\n",
        "untrd_with_ucbt_grouped.rename(columns={\"geometry\": \"geometry_untrd\"}, inplace=True)\n",
        "untrd_with_ucbt_grouped"
      ],
      "execution_count": 48,
      "outputs": [
        {
          "output_type": "execute_result",
          "data": {
            "text/html": [
              "<div>\n",
              "<style scoped>\n",
              "    .dataframe tbody tr th:only-of-type {\n",
              "        vertical-align: middle;\n",
              "    }\n",
              "\n",
              "    .dataframe tbody tr th {\n",
              "        vertical-align: top;\n",
              "    }\n",
              "\n",
              "    .dataframe thead th {\n",
              "        text-align: right;\n",
              "    }\n",
              "</style>\n",
              "<table border=\"1\" class=\"dataframe\">\n",
              "  <thead>\n",
              "    <tr style=\"text-align: right;\">\n",
              "      <th></th>\n",
              "      <th>UNI_TR_D</th>\n",
              "      <th>GRU_TAR</th>\n",
              "      <th>DIC</th>\n",
              "      <th>FIC</th>\n",
              "      <th>ENE_MED</th>\n",
              "      <th>ENE_MAX</th>\n",
              "      <th>UNI_TR_S</th>\n",
              "      <th>ARE_LOC</th>\n",
              "      <th>geometry_untrd</th>\n",
              "    </tr>\n",
              "  </thead>\n",
              "  <tbody>\n",
              "    <tr>\n",
              "      <th>0</th>\n",
              "      <td>101415715</td>\n",
              "      <td>1</td>\n",
              "      <td>76.55</td>\n",
              "      <td>28.0</td>\n",
              "      <td>97.791667</td>\n",
              "      <td>372.0</td>\n",
              "      <td>27707534</td>\n",
              "      <td>0</td>\n",
              "      <td>POINT (-42.46342 -22.40186)</td>\n",
              "    </tr>\n",
              "    <tr>\n",
              "      <th>1</th>\n",
              "      <td>102321736</td>\n",
              "      <td>1</td>\n",
              "      <td>17.18</td>\n",
              "      <td>7.0</td>\n",
              "      <td>1.000000</td>\n",
              "      <td>5.0</td>\n",
              "      <td>27707625</td>\n",
              "      <td>0</td>\n",
              "      <td>POINT (-42.52059 -22.18586)</td>\n",
              "    </tr>\n",
              "    <tr>\n",
              "      <th>2</th>\n",
              "      <td>103455355</td>\n",
              "      <td>1</td>\n",
              "      <td>8.31</td>\n",
              "      <td>7.0</td>\n",
              "      <td>91.333333</td>\n",
              "      <td>116.0</td>\n",
              "      <td>27707534</td>\n",
              "      <td>1</td>\n",
              "      <td>POINT (-42.33438 -22.35449)</td>\n",
              "    </tr>\n",
              "    <tr>\n",
              "      <th>3</th>\n",
              "      <td>105138826</td>\n",
              "      <td>1</td>\n",
              "      <td>16.10</td>\n",
              "      <td>12.0</td>\n",
              "      <td>13.583333</td>\n",
              "      <td>35.0</td>\n",
              "      <td>27707534</td>\n",
              "      <td>0</td>\n",
              "      <td>POINT (-42.30769 -22.36775)</td>\n",
              "    </tr>\n",
              "    <tr>\n",
              "      <th>4</th>\n",
              "      <td>105383366</td>\n",
              "      <td>1</td>\n",
              "      <td>4.25</td>\n",
              "      <td>25.0</td>\n",
              "      <td>103.660000</td>\n",
              "      <td>3770.0</td>\n",
              "      <td>27708102</td>\n",
              "      <td>1</td>\n",
              "      <td>POINT (-42.53134 -22.28409)</td>\n",
              "    </tr>\n",
              "    <tr>\n",
              "      <th>...</th>\n",
              "      <td>...</td>\n",
              "      <td>...</td>\n",
              "      <td>...</td>\n",
              "      <td>...</td>\n",
              "      <td>...</td>\n",
              "      <td>...</td>\n",
              "      <td>...</td>\n",
              "      <td>...</td>\n",
              "      <td>...</td>\n",
              "    </tr>\n",
              "    <tr>\n",
              "      <th>3329</th>\n",
              "      <td>92651766</td>\n",
              "      <td>1</td>\n",
              "      <td>14.10</td>\n",
              "      <td>6.0</td>\n",
              "      <td>2.300000</td>\n",
              "      <td>57.0</td>\n",
              "      <td>27707861</td>\n",
              "      <td>0</td>\n",
              "      <td>POINT (-42.47835 -22.26553)</td>\n",
              "    </tr>\n",
              "    <tr>\n",
              "      <th>3330</th>\n",
              "      <td>96872663</td>\n",
              "      <td>1</td>\n",
              "      <td>63.58</td>\n",
              "      <td>20.0</td>\n",
              "      <td>8.083333</td>\n",
              "      <td>30.0</td>\n",
              "      <td>27707750</td>\n",
              "      <td>0</td>\n",
              "      <td>POINT (-42.63851 -22.29795)</td>\n",
              "    </tr>\n",
              "    <tr>\n",
              "      <th>3331</th>\n",
              "      <td>96997174</td>\n",
              "      <td>1</td>\n",
              "      <td>59.51</td>\n",
              "      <td>18.0</td>\n",
              "      <td>36.916667</td>\n",
              "      <td>49.0</td>\n",
              "      <td>27707534</td>\n",
              "      <td>0</td>\n",
              "      <td>POINT (-42.35905 -22.32697)</td>\n",
              "    </tr>\n",
              "    <tr>\n",
              "      <th>3332</th>\n",
              "      <td>97134637</td>\n",
              "      <td>1</td>\n",
              "      <td>20.91</td>\n",
              "      <td>11.0</td>\n",
              "      <td>112.416667</td>\n",
              "      <td>221.0</td>\n",
              "      <td>27707750</td>\n",
              "      <td>0</td>\n",
              "      <td>POINT (-42.58764 -22.29391)</td>\n",
              "    </tr>\n",
              "    <tr>\n",
              "      <th>3333</th>\n",
              "      <td>99418993</td>\n",
              "      <td>1</td>\n",
              "      <td>34.43</td>\n",
              "      <td>12.0</td>\n",
              "      <td>125.833333</td>\n",
              "      <td>346.0</td>\n",
              "      <td>27707625</td>\n",
              "      <td>1</td>\n",
              "      <td>POINT (-42.46827 -22.19621)</td>\n",
              "    </tr>\n",
              "  </tbody>\n",
              "</table>\n",
              "<p>3334 rows × 9 columns</p>\n",
              "</div>"
            ],
            "text/plain": [
              "       UNI_TR_D  GRU_TAR    DIC  ...  UNI_TR_S  ARE_LOC               geometry_untrd\n",
              "0     101415715        1  76.55  ...  27707534        0  POINT (-42.46342 -22.40186)\n",
              "1     102321736        1  17.18  ...  27707625        0  POINT (-42.52059 -22.18586)\n",
              "2     103455355        1   8.31  ...  27707534        1  POINT (-42.33438 -22.35449)\n",
              "3     105138826        1  16.10  ...  27707534        0  POINT (-42.30769 -22.36775)\n",
              "4     105383366        1   4.25  ...  27708102        1  POINT (-42.53134 -22.28409)\n",
              "...         ...      ...    ...  ...       ...      ...                          ...\n",
              "3329   92651766        1  14.10  ...  27707861        0  POINT (-42.47835 -22.26553)\n",
              "3330   96872663        1  63.58  ...  27707750        0  POINT (-42.63851 -22.29795)\n",
              "3331   96997174        1  59.51  ...  27707534        0  POINT (-42.35905 -22.32697)\n",
              "3332   97134637        1  20.91  ...  27707750        0  POINT (-42.58764 -22.29391)\n",
              "3333   99418993        1  34.43  ...  27707625        1  POINT (-42.46827 -22.19621)\n",
              "\n",
              "[3334 rows x 9 columns]"
            ]
          },
          "metadata": {
            "tags": []
          },
          "execution_count": 48
        }
      ]
    },
    {
      "cell_type": "code",
      "metadata": {
        "id": "-_SijL-5c8xO",
        "colab_type": "code",
        "colab": {
          "base_uri": "https://localhost:8080/",
          "height": 235
        },
        "outputId": "c9b467ab-058f-4543-c7dc-aae84e1e6b47"
      },
      "source": [
        "#Por ahora de la layer untrs, tomaremos solamente su id, que es la columna COD_ID y su punto geométrico.\n",
        "untrs_without_irrelevants_columns = untrs.copy()\n",
        "untrs_without_irrelevants_columns.drop(untrs.columns.difference(['COD_ID','geometry']), 1, inplace=True)\n",
        "untrs_without_irrelevants_columns"
      ],
      "execution_count": 49,
      "outputs": [
        {
          "output_type": "execute_result",
          "data": {
            "text/html": [
              "<div>\n",
              "<style scoped>\n",
              "    .dataframe tbody tr th:only-of-type {\n",
              "        vertical-align: middle;\n",
              "    }\n",
              "\n",
              "    .dataframe tbody tr th {\n",
              "        vertical-align: top;\n",
              "    }\n",
              "\n",
              "    .dataframe thead th {\n",
              "        text-align: right;\n",
              "    }\n",
              "</style>\n",
              "<table border=\"1\" class=\"dataframe\">\n",
              "  <thead>\n",
              "    <tr style=\"text-align: right;\">\n",
              "      <th></th>\n",
              "      <th>COD_ID</th>\n",
              "      <th>geometry</th>\n",
              "    </tr>\n",
              "  </thead>\n",
              "  <tbody>\n",
              "    <tr>\n",
              "      <th>0</th>\n",
              "      <td>27707534</td>\n",
              "      <td>POINT (-42.38024 -22.28705)</td>\n",
              "    </tr>\n",
              "    <tr>\n",
              "      <th>1</th>\n",
              "      <td>27707625</td>\n",
              "      <td>POINT (-42.52043 -22.23040)</td>\n",
              "    </tr>\n",
              "    <tr>\n",
              "      <th>2</th>\n",
              "      <td>27707750</td>\n",
              "      <td>POINT (-42.68582 -22.26417)</td>\n",
              "    </tr>\n",
              "    <tr>\n",
              "      <th>3</th>\n",
              "      <td>27707861</td>\n",
              "      <td>POINT (-42.51374 -22.28512)</td>\n",
              "    </tr>\n",
              "    <tr>\n",
              "      <th>4</th>\n",
              "      <td>27708102</td>\n",
              "      <td>POINT (-42.53341 -22.27488)</td>\n",
              "    </tr>\n",
              "    <tr>\n",
              "      <th>5</th>\n",
              "      <td>80345241</td>\n",
              "      <td>POINT (-42.53341 -22.27488)</td>\n",
              "    </tr>\n",
              "  </tbody>\n",
              "</table>\n",
              "</div>"
            ],
            "text/plain": [
              "     COD_ID                     geometry\n",
              "0  27707534  POINT (-42.38024 -22.28705)\n",
              "1  27707625  POINT (-42.52043 -22.23040)\n",
              "2  27707750  POINT (-42.68582 -22.26417)\n",
              "3  27707861  POINT (-42.51374 -22.28512)\n",
              "4  27708102  POINT (-42.53341 -22.27488)\n",
              "5  80345241  POINT (-42.53341 -22.27488)"
            ]
          },
          "metadata": {
            "tags": []
          },
          "execution_count": 49
        }
      ]
    },
    {
      "cell_type": "code",
      "metadata": {
        "colab_type": "code",
        "id": "MywEq68gzzGh",
        "colab": {
          "base_uri": "https://localhost:8080/",
          "height": 419
        },
        "outputId": "50e44d99-ea2b-48f1-85f6-21d2fe33f769"
      },
      "source": [
        "ucbt_untrd_untrs = untrd_with_ucbt_grouped.merge(untrs_without_irrelevants_columns, left_on='UNI_TR_S', right_on='COD_ID')\n",
        "ucbt_untrd_untrs = ucbt_untrd_untrs.drop(['COD_ID'], axis=1)\n",
        "ucbt_untrd_untrs.rename(columns={\"geometry\": \"geometry_untrs\"}, inplace=True)\n",
        "ucbt_untrd_untrs"
      ],
      "execution_count": 50,
      "outputs": [
        {
          "output_type": "execute_result",
          "data": {
            "text/html": [
              "<div>\n",
              "<style scoped>\n",
              "    .dataframe tbody tr th:only-of-type {\n",
              "        vertical-align: middle;\n",
              "    }\n",
              "\n",
              "    .dataframe tbody tr th {\n",
              "        vertical-align: top;\n",
              "    }\n",
              "\n",
              "    .dataframe thead th {\n",
              "        text-align: right;\n",
              "    }\n",
              "</style>\n",
              "<table border=\"1\" class=\"dataframe\">\n",
              "  <thead>\n",
              "    <tr style=\"text-align: right;\">\n",
              "      <th></th>\n",
              "      <th>UNI_TR_D</th>\n",
              "      <th>GRU_TAR</th>\n",
              "      <th>DIC</th>\n",
              "      <th>FIC</th>\n",
              "      <th>ENE_MED</th>\n",
              "      <th>ENE_MAX</th>\n",
              "      <th>UNI_TR_S</th>\n",
              "      <th>ARE_LOC</th>\n",
              "      <th>geometry_untrd</th>\n",
              "      <th>geometry_untrs</th>\n",
              "    </tr>\n",
              "  </thead>\n",
              "  <tbody>\n",
              "    <tr>\n",
              "      <th>0</th>\n",
              "      <td>101415715</td>\n",
              "      <td>1</td>\n",
              "      <td>76.55</td>\n",
              "      <td>28.0</td>\n",
              "      <td>97.791667</td>\n",
              "      <td>372.0</td>\n",
              "      <td>27707534</td>\n",
              "      <td>0</td>\n",
              "      <td>POINT (-42.46342 -22.40186)</td>\n",
              "      <td>POINT (-42.38024 -22.28705)</td>\n",
              "    </tr>\n",
              "    <tr>\n",
              "      <th>1</th>\n",
              "      <td>103455355</td>\n",
              "      <td>1</td>\n",
              "      <td>8.31</td>\n",
              "      <td>7.0</td>\n",
              "      <td>91.333333</td>\n",
              "      <td>116.0</td>\n",
              "      <td>27707534</td>\n",
              "      <td>1</td>\n",
              "      <td>POINT (-42.33438 -22.35449)</td>\n",
              "      <td>POINT (-42.38024 -22.28705)</td>\n",
              "    </tr>\n",
              "    <tr>\n",
              "      <th>2</th>\n",
              "      <td>105138826</td>\n",
              "      <td>1</td>\n",
              "      <td>16.10</td>\n",
              "      <td>12.0</td>\n",
              "      <td>13.583333</td>\n",
              "      <td>35.0</td>\n",
              "      <td>27707534</td>\n",
              "      <td>0</td>\n",
              "      <td>POINT (-42.30769 -22.36775)</td>\n",
              "      <td>POINT (-42.38024 -22.28705)</td>\n",
              "    </tr>\n",
              "    <tr>\n",
              "      <th>3</th>\n",
              "      <td>106512676</td>\n",
              "      <td>1</td>\n",
              "      <td>17.24</td>\n",
              "      <td>8.0</td>\n",
              "      <td>84.833333</td>\n",
              "      <td>101.0</td>\n",
              "      <td>27707534</td>\n",
              "      <td>0</td>\n",
              "      <td>POINT (-42.36098 -22.33090)</td>\n",
              "      <td>POINT (-42.38024 -22.28705)</td>\n",
              "    </tr>\n",
              "    <tr>\n",
              "      <th>4</th>\n",
              "      <td>108015624</td>\n",
              "      <td>1</td>\n",
              "      <td>19.15</td>\n",
              "      <td>9.0</td>\n",
              "      <td>158.166667</td>\n",
              "      <td>180.0</td>\n",
              "      <td>27707534</td>\n",
              "      <td>0</td>\n",
              "      <td>POINT (-42.35269 -22.33233)</td>\n",
              "      <td>POINT (-42.38024 -22.28705)</td>\n",
              "    </tr>\n",
              "    <tr>\n",
              "      <th>...</th>\n",
              "      <td>...</td>\n",
              "      <td>...</td>\n",
              "      <td>...</td>\n",
              "      <td>...</td>\n",
              "      <td>...</td>\n",
              "      <td>...</td>\n",
              "      <td>...</td>\n",
              "      <td>...</td>\n",
              "      <td>...</td>\n",
              "      <td>...</td>\n",
              "    </tr>\n",
              "    <tr>\n",
              "      <th>3329</th>\n",
              "      <td>62005694</td>\n",
              "      <td>1</td>\n",
              "      <td>1.06</td>\n",
              "      <td>4.0</td>\n",
              "      <td>26.208333</td>\n",
              "      <td>83.0</td>\n",
              "      <td>80345241</td>\n",
              "      <td>1</td>\n",
              "      <td>POINT (-42.55290 -22.32220)</td>\n",
              "      <td>POINT (-42.53341 -22.27488)</td>\n",
              "    </tr>\n",
              "    <tr>\n",
              "      <th>3330</th>\n",
              "      <td>68553759</td>\n",
              "      <td>1</td>\n",
              "      <td>39.40</td>\n",
              "      <td>63.0</td>\n",
              "      <td>98.020833</td>\n",
              "      <td>3923.0</td>\n",
              "      <td>80345241</td>\n",
              "      <td>1</td>\n",
              "      <td>POINT (-42.55061 -22.33056)</td>\n",
              "      <td>POINT (-42.53341 -22.27488)</td>\n",
              "    </tr>\n",
              "    <tr>\n",
              "      <th>3331</th>\n",
              "      <td>71641214</td>\n",
              "      <td>1</td>\n",
              "      <td>47.19</td>\n",
              "      <td>39.0</td>\n",
              "      <td>160.950855</td>\n",
              "      <td>8415.0</td>\n",
              "      <td>80345241</td>\n",
              "      <td>1</td>\n",
              "      <td>POINT (-42.54295 -22.32953)</td>\n",
              "      <td>POINT (-42.53341 -22.27488)</td>\n",
              "    </tr>\n",
              "    <tr>\n",
              "      <th>3332</th>\n",
              "      <td>87219744</td>\n",
              "      <td>1</td>\n",
              "      <td>242.57</td>\n",
              "      <td>146.0</td>\n",
              "      <td>133.132114</td>\n",
              "      <td>8476.0</td>\n",
              "      <td>80345241</td>\n",
              "      <td>1</td>\n",
              "      <td>POINT (-42.54309 -22.30406)</td>\n",
              "      <td>POINT (-42.53341 -22.27488)</td>\n",
              "    </tr>\n",
              "    <tr>\n",
              "      <th>3333</th>\n",
              "      <td>91818602</td>\n",
              "      <td>1</td>\n",
              "      <td>101.44</td>\n",
              "      <td>151.0</td>\n",
              "      <td>112.299383</td>\n",
              "      <td>8603.0</td>\n",
              "      <td>80345241</td>\n",
              "      <td>1</td>\n",
              "      <td>POINT (-42.55113 -22.33055)</td>\n",
              "      <td>POINT (-42.53341 -22.27488)</td>\n",
              "    </tr>\n",
              "  </tbody>\n",
              "</table>\n",
              "<p>3334 rows × 10 columns</p>\n",
              "</div>"
            ],
            "text/plain": [
              "       UNI_TR_D  ...               geometry_untrs\n",
              "0     101415715  ...  POINT (-42.38024 -22.28705)\n",
              "1     103455355  ...  POINT (-42.38024 -22.28705)\n",
              "2     105138826  ...  POINT (-42.38024 -22.28705)\n",
              "3     106512676  ...  POINT (-42.38024 -22.28705)\n",
              "4     108015624  ...  POINT (-42.38024 -22.28705)\n",
              "...         ...  ...                          ...\n",
              "3329   62005694  ...  POINT (-42.53341 -22.27488)\n",
              "3330   68553759  ...  POINT (-42.53341 -22.27488)\n",
              "3331   71641214  ...  POINT (-42.53341 -22.27488)\n",
              "3332   87219744  ...  POINT (-42.53341 -22.27488)\n",
              "3333   91818602  ...  POINT (-42.53341 -22.27488)\n",
              "\n",
              "[3334 rows x 10 columns]"
            ]
          },
          "metadata": {
            "tags": []
          },
          "execution_count": 50
        }
      ]
    },
    {
      "cell_type": "markdown",
      "metadata": {
        "colab_type": "text",
        "id": "M7DVfIv9kRca"
      },
      "source": [
        "## Generación de variables geográficas\n",
        "\n",
        "5 - Calcule la distancia euclideana de cada untrd al correspondiente untrs y adicione al dataset.\n",
        "\n",
        "6 - Cree una variable que sea la distancia al centro urbano mas cercanos.\n",
        "\n",
        "7 - Usando OSMnx descargue la informacion sobre caminos dentro del area de cobertura de la distribuidora. Cree variables para las distancias a autopistas (trunk), a caminos primarios (primary) y a caminos secundarios (secondary)\n"
      ]
    },
    {
      "cell_type": "code",
      "metadata": {
        "id": "_iDbkCfMc8xT",
        "colab_type": "code",
        "colab": {}
      },
      "source": [
        "ucbt_untrd_untrs['eu_dis_untrs'] = -1\n",
        "\n",
        "for i,t in ucbt_untrd_untrs.iterrows():\n",
        "    eud = ucbt_untrd_untrs.geometry_untrd[i].distance(ucbt_untrd_untrs.geometry_untrs[i])\n",
        "    ucbt_untrd_untrs.eu_dis_untrs.loc[i] = eud"
      ],
      "execution_count": 51,
      "outputs": []
    },
    {
      "cell_type": "markdown",
      "metadata": {
        "id": "vo3i4d-ic8xW",
        "colab_type": "text"
      },
      "source": [
        "Tomamos como punto de \"centro urbano\", el punto geográfico donde se encuentra la central principal de la empresa \"Nova Friburgo Energisa\"."
      ]
    },
    {
      "cell_type": "code",
      "metadata": {
        "id": "DrGXeD4rc8xW",
        "colab_type": "code",
        "colab": {
          "base_uri": "https://localhost:8080/",
          "height": 419
        },
        "outputId": "fc8d9331-8807-42d1-b961-16ca93ba00f6"
      },
      "source": [
        "nova_friburgo_energisa = Point(-42.531941, -22.281767)\n",
        "\n",
        "ucbt_untrd_untrs['eu_dis_nfe'] = -1\n",
        "\n",
        "for i,t in ucbt_untrd_untrs.iterrows():\n",
        "    eud = ucbt_untrd_untrs.geometry_untrd[i].distance(nova_friburgo_energisa)\n",
        "    ucbt_untrd_untrs.eu_dis_nfe.loc[i] = eud\n",
        "    \n",
        "ucbt_untrd_untrs "
      ],
      "execution_count": 52,
      "outputs": [
        {
          "output_type": "execute_result",
          "data": {
            "text/html": [
              "<div>\n",
              "<style scoped>\n",
              "    .dataframe tbody tr th:only-of-type {\n",
              "        vertical-align: middle;\n",
              "    }\n",
              "\n",
              "    .dataframe tbody tr th {\n",
              "        vertical-align: top;\n",
              "    }\n",
              "\n",
              "    .dataframe thead th {\n",
              "        text-align: right;\n",
              "    }\n",
              "</style>\n",
              "<table border=\"1\" class=\"dataframe\">\n",
              "  <thead>\n",
              "    <tr style=\"text-align: right;\">\n",
              "      <th></th>\n",
              "      <th>UNI_TR_D</th>\n",
              "      <th>GRU_TAR</th>\n",
              "      <th>DIC</th>\n",
              "      <th>FIC</th>\n",
              "      <th>ENE_MED</th>\n",
              "      <th>ENE_MAX</th>\n",
              "      <th>UNI_TR_S</th>\n",
              "      <th>ARE_LOC</th>\n",
              "      <th>geometry_untrd</th>\n",
              "      <th>geometry_untrs</th>\n",
              "      <th>eu_dis_untrs</th>\n",
              "      <th>eu_dis_nfe</th>\n",
              "    </tr>\n",
              "  </thead>\n",
              "  <tbody>\n",
              "    <tr>\n",
              "      <th>0</th>\n",
              "      <td>101415715</td>\n",
              "      <td>1</td>\n",
              "      <td>76.55</td>\n",
              "      <td>28.0</td>\n",
              "      <td>97.791667</td>\n",
              "      <td>372.0</td>\n",
              "      <td>27707534</td>\n",
              "      <td>0</td>\n",
              "      <td>POINT (-42.46342 -22.40186)</td>\n",
              "      <td>POINT (-42.38024 -22.28705)</td>\n",
              "      <td>0.141772</td>\n",
              "      <td>0.138264</td>\n",
              "    </tr>\n",
              "    <tr>\n",
              "      <th>1</th>\n",
              "      <td>103455355</td>\n",
              "      <td>1</td>\n",
              "      <td>8.31</td>\n",
              "      <td>7.0</td>\n",
              "      <td>91.333333</td>\n",
              "      <td>116.0</td>\n",
              "      <td>27707534</td>\n",
              "      <td>1</td>\n",
              "      <td>POINT (-42.33438 -22.35449)</td>\n",
              "      <td>POINT (-42.38024 -22.28705)</td>\n",
              "      <td>0.081550</td>\n",
              "      <td>0.210518</td>\n",
              "    </tr>\n",
              "    <tr>\n",
              "      <th>2</th>\n",
              "      <td>105138826</td>\n",
              "      <td>1</td>\n",
              "      <td>16.10</td>\n",
              "      <td>12.0</td>\n",
              "      <td>13.583333</td>\n",
              "      <td>35.0</td>\n",
              "      <td>27707534</td>\n",
              "      <td>0</td>\n",
              "      <td>POINT (-42.30769 -22.36775)</td>\n",
              "      <td>POINT (-42.38024 -22.28705)</td>\n",
              "      <td>0.108510</td>\n",
              "      <td>0.240169</td>\n",
              "    </tr>\n",
              "    <tr>\n",
              "      <th>3</th>\n",
              "      <td>106512676</td>\n",
              "      <td>1</td>\n",
              "      <td>17.24</td>\n",
              "      <td>8.0</td>\n",
              "      <td>84.833333</td>\n",
              "      <td>101.0</td>\n",
              "      <td>27707534</td>\n",
              "      <td>0</td>\n",
              "      <td>POINT (-42.36098 -22.33090)</td>\n",
              "      <td>POINT (-42.38024 -22.28705)</td>\n",
              "      <td>0.047884</td>\n",
              "      <td>0.177878</td>\n",
              "    </tr>\n",
              "    <tr>\n",
              "      <th>4</th>\n",
              "      <td>108015624</td>\n",
              "      <td>1</td>\n",
              "      <td>19.15</td>\n",
              "      <td>9.0</td>\n",
              "      <td>158.166667</td>\n",
              "      <td>180.0</td>\n",
              "      <td>27707534</td>\n",
              "      <td>0</td>\n",
              "      <td>POINT (-42.35269 -22.33233)</td>\n",
              "      <td>POINT (-42.38024 -22.28705)</td>\n",
              "      <td>0.052998</td>\n",
              "      <td>0.186244</td>\n",
              "    </tr>\n",
              "    <tr>\n",
              "      <th>...</th>\n",
              "      <td>...</td>\n",
              "      <td>...</td>\n",
              "      <td>...</td>\n",
              "      <td>...</td>\n",
              "      <td>...</td>\n",
              "      <td>...</td>\n",
              "      <td>...</td>\n",
              "      <td>...</td>\n",
              "      <td>...</td>\n",
              "      <td>...</td>\n",
              "      <td>...</td>\n",
              "      <td>...</td>\n",
              "    </tr>\n",
              "    <tr>\n",
              "      <th>3329</th>\n",
              "      <td>62005694</td>\n",
              "      <td>1</td>\n",
              "      <td>1.06</td>\n",
              "      <td>4.0</td>\n",
              "      <td>26.208333</td>\n",
              "      <td>83.0</td>\n",
              "      <td>80345241</td>\n",
              "      <td>1</td>\n",
              "      <td>POINT (-42.55290 -22.32220)</td>\n",
              "      <td>POINT (-42.53341 -22.27488)</td>\n",
              "      <td>0.051173</td>\n",
              "      <td>0.045542</td>\n",
              "    </tr>\n",
              "    <tr>\n",
              "      <th>3330</th>\n",
              "      <td>68553759</td>\n",
              "      <td>1</td>\n",
              "      <td>39.40</td>\n",
              "      <td>63.0</td>\n",
              "      <td>98.020833</td>\n",
              "      <td>3923.0</td>\n",
              "      <td>80345241</td>\n",
              "      <td>1</td>\n",
              "      <td>POINT (-42.55061 -22.33056)</td>\n",
              "      <td>POINT (-42.53341 -22.27488)</td>\n",
              "      <td>0.058273</td>\n",
              "      <td>0.052244</td>\n",
              "    </tr>\n",
              "    <tr>\n",
              "      <th>3331</th>\n",
              "      <td>71641214</td>\n",
              "      <td>1</td>\n",
              "      <td>47.19</td>\n",
              "      <td>39.0</td>\n",
              "      <td>160.950855</td>\n",
              "      <td>8415.0</td>\n",
              "      <td>80345241</td>\n",
              "      <td>1</td>\n",
              "      <td>POINT (-42.54295 -22.32953)</td>\n",
              "      <td>POINT (-42.53341 -22.27488)</td>\n",
              "      <td>0.055476</td>\n",
              "      <td>0.049019</td>\n",
              "    </tr>\n",
              "    <tr>\n",
              "      <th>3332</th>\n",
              "      <td>87219744</td>\n",
              "      <td>1</td>\n",
              "      <td>242.57</td>\n",
              "      <td>146.0</td>\n",
              "      <td>133.132114</td>\n",
              "      <td>8476.0</td>\n",
              "      <td>80345241</td>\n",
              "      <td>1</td>\n",
              "      <td>POINT (-42.54309 -22.30406)</td>\n",
              "      <td>POINT (-42.53341 -22.27488)</td>\n",
              "      <td>0.030737</td>\n",
              "      <td>0.024922</td>\n",
              "    </tr>\n",
              "    <tr>\n",
              "      <th>3333</th>\n",
              "      <td>91818602</td>\n",
              "      <td>1</td>\n",
              "      <td>101.44</td>\n",
              "      <td>151.0</td>\n",
              "      <td>112.299383</td>\n",
              "      <td>8603.0</td>\n",
              "      <td>80345241</td>\n",
              "      <td>1</td>\n",
              "      <td>POINT (-42.55113 -22.33055)</td>\n",
              "      <td>POINT (-42.53341 -22.27488)</td>\n",
              "      <td>0.058420</td>\n",
              "      <td>0.052424</td>\n",
              "    </tr>\n",
              "  </tbody>\n",
              "</table>\n",
              "<p>3334 rows × 12 columns</p>\n",
              "</div>"
            ],
            "text/plain": [
              "       UNI_TR_D  GRU_TAR  ...  eu_dis_untrs  eu_dis_nfe\n",
              "0     101415715        1  ...      0.141772    0.138264\n",
              "1     103455355        1  ...      0.081550    0.210518\n",
              "2     105138826        1  ...      0.108510    0.240169\n",
              "3     106512676        1  ...      0.047884    0.177878\n",
              "4     108015624        1  ...      0.052998    0.186244\n",
              "...         ...      ...  ...           ...         ...\n",
              "3329   62005694        1  ...      0.051173    0.045542\n",
              "3330   68553759        1  ...      0.058273    0.052244\n",
              "3331   71641214        1  ...      0.055476    0.049019\n",
              "3332   87219744        1  ...      0.030737    0.024922\n",
              "3333   91818602        1  ...      0.058420    0.052424\n",
              "\n",
              "[3334 rows x 12 columns]"
            ]
          },
          "metadata": {
            "tags": []
          },
          "execution_count": 52
        }
      ]
    },
    {
      "cell_type": "code",
      "metadata": {
        "id": "9GtOWJUTc8xZ",
        "colab_type": "code",
        "colab": {
          "base_uri": "https://localhost:8080/",
          "height": 368
        },
        "outputId": "5a9e7e26-bd31-4737-801d-8bc92372c028"
      },
      "source": [
        "import osmnx as ox\n",
        "import rtree\n",
        "\n",
        "conj = gpd.read_file(data_path, driver='FileGDB', layer='CONJ')\n",
        "\n",
        "my_place = 'Nova Friburgo, Rio de Janeiro, Brazil'\n",
        "\n",
        "G = ox.graph_from_place(my_place)\n",
        "ox.plot_graph(G)\n"
      ],
      "execution_count": 53,
      "outputs": [
        {
          "output_type": "display_data",
          "data": {
            "image/png": "[encoded data removed]",
            "text/plain": [
              "<Figure size 576x576 with 1 Axes>"
            ]
          },
          "metadata": {
            "tags": []
          }
        },
        {
          "output_type": "execute_result",
          "data": {
            "text/plain": [
              "(<Figure size 576x576 with 1 Axes>,\n",
              " <matplotlib.axes._subplots.AxesSubplot at 0x7f25d07484e0>)"
            ]
          },
          "metadata": {
            "tags": []
          },
          "execution_count": 53
        }
      ]
    },
    {
      "cell_type": "code",
      "metadata": {
        "id": "8VG3fqzz5G75",
        "colab_type": "code",
        "colab": {
          "base_uri": "https://localhost:8080/",
          "height": 1000
        },
        "outputId": "86724e22-def4-47cc-bdcd-d1f81271a89c"
      },
      "source": [
        "conj_deg = conj\n",
        "dist = conj_deg.dissolve(by='DIST')\n",
        "G_conj = ox.graph_from_polygon(dist.to_crs(epsg=4326).iloc[0].geometry)\n",
        "fig, ax = ox.plot_graph(G_conj, node_size=0)\n",
        "nodes, edges = ox.graph_to_gdfs(G_conj)\n",
        "edges.to_csv('edges_conj.csv')\n",
        "edges[edges.name.str.contains('Rodovia').fillna(False)].plot(figsize=(12,12))\n",
        "mask_main_roads = (edges.highway.str.contains('trunk').fillna(False) | edges.highway.str.contains('primary').fillna(False))\n",
        "mask_secondary_roads = (edges.highway.str.contains('trunk').fillna(False) | edges.highway.str.contains('secondary').fillna(False))\n"
      ],
      "execution_count": 54,
      "outputs": [
        {
          "output_type": "display_data",
          "data": {
            "image/png": "[encoded data removed]",
            "text/plain": [
              "<Figure size 576x576 with 1 Axes>"
            ]
          },
          "metadata": {
            "tags": []
          }
        },
        {
          "output_type": "display_data",
          "data": {
            "image/png": "[encoded data removed]",
            "text/plain": [
              "<Figure size 864x864 with 1 Axes>"
            ]
          },
          "metadata": {
            "tags": [],
            "needs_background": "light"
          }
        }
      ]
    },
    {
      "cell_type": "code",
      "metadata": {
        "id": "c3qT3pOICm4b",
        "colab_type": "code",
        "colab": {
          "base_uri": "https://localhost:8080/",
          "height": 1000
        },
        "outputId": "2ab0e57b-189b-4fa2-e0f8-aac44f4cd040"
      },
      "source": [
        "main_roads = edges[['geometry','length','name', 'ref']][mask_main_roads]\n",
        "secondary_roads = edges[['geometry','length','name', 'ref']][mask_secondary_roads]\n",
        "\n",
        "main_roads.plot(figsize=(12,12))\n",
        "secondary_roads.plot(figsize=(12,12))\n"
      ],
      "execution_count": 55,
      "outputs": [
        {
          "output_type": "execute_result",
          "data": {
            "text/plain": [
              "<matplotlib.axes._subplots.AxesSubplot at 0x7f25d2390400>"
            ]
          },
          "metadata": {
            "tags": []
          },
          "execution_count": 55
        },
        {
          "output_type": "display_data",
          "data": {
            "image/png": "[encoded data removed]",
            "text/plain": [
              "<Figure size 864x864 with 1 Axes>"
            ]
          },
          "metadata": {
            "tags": [],
            "needs_background": "light"
          }
        },
        {
          "output_type": "display_data",
          "data": {
            "image/png": "[encoded data removed]",
            "text/plain": [
              "<Figure size 864x864 with 1 Axes>"
            ]
          },
          "metadata": {
            "tags": [],
            "needs_background": "light"
          }
        }
      ]
    },
    {
      "cell_type": "code",
      "metadata": {
        "id": "4d36D6zwDAXI",
        "colab_type": "code",
        "colab": {
          "base_uri": "https://localhost:8080/",
          "height": 419
        },
        "outputId": "e7034e12-ee11-4fff-af1d-1efbc3a46bc6"
      },
      "source": [
        "main_roads['dist'] = 6612\n",
        "secondary_roads['dist'] = 6612\n",
        "\n",
        "main_roads_comb = main_roads.dissolve(by='dist')\n",
        "main_roads_comb.to_crs(epsg=31984, inplace= True)\n",
        "\n",
        "\n",
        "secondary_roads_comb = secondary_roads.dissolve(by='dist')\n",
        "secondary_roads_comb.to_crs(epsg=31984, inplace= True)\n",
        "\n",
        "\n",
        "ucbt_untrd_untrs['main_r_dist'] = -1\n",
        "ucbt_untrd_untrs['secondary_r_dist'] = -1\n",
        "\n",
        "\n",
        "for i,t in ucbt_untrd_untrs.iterrows():\n",
        "    eud_main_roads = ucbt_untrd_untrs.geometry_untrd[i].distance(main_roads_comb.iloc[0].geometry)\n",
        "    eud_secondary_roads = ucbt_untrd_untrs.geometry_untrd[i].distance(secondary_roads_comb.iloc[0].geometry)\n",
        "    ucbt_untrd_untrs.main_r_dist.loc[i] = eud_main_roads\n",
        "    ucbt_untrd_untrs.secondary_r_dist.loc[i] = eud_secondary_roads\n",
        "ucbt_untrd_untrs"
      ],
      "execution_count": 56,
      "outputs": [
        {
          "output_type": "execute_result",
          "data": {
            "text/html": [
              "<div>\n",
              "<style scoped>\n",
              "    .dataframe tbody tr th:only-of-type {\n",
              "        vertical-align: middle;\n",
              "    }\n",
              "\n",
              "    .dataframe tbody tr th {\n",
              "        vertical-align: top;\n",
              "    }\n",
              "\n",
              "    .dataframe thead th {\n",
              "        text-align: right;\n",
              "    }\n",
              "</style>\n",
              "<table border=\"1\" class=\"dataframe\">\n",
              "  <thead>\n",
              "    <tr style=\"text-align: right;\">\n",
              "      <th></th>\n",
              "      <th>UNI_TR_D</th>\n",
              "      <th>GRU_TAR</th>\n",
              "      <th>DIC</th>\n",
              "      <th>FIC</th>\n",
              "      <th>ENE_MED</th>\n",
              "      <th>ENE_MAX</th>\n",
              "      <th>UNI_TR_S</th>\n",
              "      <th>ARE_LOC</th>\n",
              "      <th>geometry_untrd</th>\n",
              "      <th>geometry_untrs</th>\n",
              "      <th>eu_dis_untrs</th>\n",
              "      <th>eu_dis_nfe</th>\n",
              "      <th>main_r_dist</th>\n",
              "      <th>secondary_r_dist</th>\n",
              "    </tr>\n",
              "  </thead>\n",
              "  <tbody>\n",
              "    <tr>\n",
              "      <th>0</th>\n",
              "      <td>101415715</td>\n",
              "      <td>1</td>\n",
              "      <td>76.55</td>\n",
              "      <td>28.0</td>\n",
              "      <td>97.791667</td>\n",
              "      <td>372.0</td>\n",
              "      <td>27707534</td>\n",
              "      <td>0</td>\n",
              "      <td>POINT (-42.46342 -22.40186)</td>\n",
              "      <td>POINT (-42.38024 -22.28705)</td>\n",
              "      <td>0.141772</td>\n",
              "      <td>0.138264</td>\n",
              "      <td>7.522261e+06</td>\n",
              "      <td>7.521795e+06</td>\n",
              "    </tr>\n",
              "    <tr>\n",
              "      <th>1</th>\n",
              "      <td>103455355</td>\n",
              "      <td>1</td>\n",
              "      <td>8.31</td>\n",
              "      <td>7.0</td>\n",
              "      <td>91.333333</td>\n",
              "      <td>116.0</td>\n",
              "      <td>27707534</td>\n",
              "      <td>1</td>\n",
              "      <td>POINT (-42.33438 -22.35449)</td>\n",
              "      <td>POINT (-42.38024 -22.28705)</td>\n",
              "      <td>0.081550</td>\n",
              "      <td>0.210518</td>\n",
              "      <td>7.522261e+06</td>\n",
              "      <td>7.521795e+06</td>\n",
              "    </tr>\n",
              "    <tr>\n",
              "      <th>2</th>\n",
              "      <td>105138826</td>\n",
              "      <td>1</td>\n",
              "      <td>16.10</td>\n",
              "      <td>12.0</td>\n",
              "      <td>13.583333</td>\n",
              "      <td>35.0</td>\n",
              "      <td>27707534</td>\n",
              "      <td>0</td>\n",
              "      <td>POINT (-42.30769 -22.36775)</td>\n",
              "      <td>POINT (-42.38024 -22.28705)</td>\n",
              "      <td>0.108510</td>\n",
              "      <td>0.240169</td>\n",
              "      <td>7.522261e+06</td>\n",
              "      <td>7.521795e+06</td>\n",
              "    </tr>\n",
              "    <tr>\n",
              "      <th>3</th>\n",
              "      <td>106512676</td>\n",
              "      <td>1</td>\n",
              "      <td>17.24</td>\n",
              "      <td>8.0</td>\n",
              "      <td>84.833333</td>\n",
              "      <td>101.0</td>\n",
              "      <td>27707534</td>\n",
              "      <td>0</td>\n",
              "      <td>POINT (-42.36098 -22.33090)</td>\n",
              "      <td>POINT (-42.38024 -22.28705)</td>\n",
              "      <td>0.047884</td>\n",
              "      <td>0.177878</td>\n",
              "      <td>7.522261e+06</td>\n",
              "      <td>7.521795e+06</td>\n",
              "    </tr>\n",
              "    <tr>\n",
              "      <th>4</th>\n",
              "      <td>108015624</td>\n",
              "      <td>1</td>\n",
              "      <td>19.15</td>\n",
              "      <td>9.0</td>\n",
              "      <td>158.166667</td>\n",
              "      <td>180.0</td>\n",
              "      <td>27707534</td>\n",
              "      <td>0</td>\n",
              "      <td>POINT (-42.35269 -22.33233)</td>\n",
              "      <td>POINT (-42.38024 -22.28705)</td>\n",
              "      <td>0.052998</td>\n",
              "      <td>0.186244</td>\n",
              "      <td>7.522261e+06</td>\n",
              "      <td>7.521795e+06</td>\n",
              "    </tr>\n",
              "    <tr>\n",
              "      <th>...</th>\n",
              "      <td>...</td>\n",
              "      <td>...</td>\n",
              "      <td>...</td>\n",
              "      <td>...</td>\n",
              "      <td>...</td>\n",
              "      <td>...</td>\n",
              "      <td>...</td>\n",
              "      <td>...</td>\n",
              "      <td>...</td>\n",
              "      <td>...</td>\n",
              "      <td>...</td>\n",
              "      <td>...</td>\n",
              "      <td>...</td>\n",
              "      <td>...</td>\n",
              "    </tr>\n",
              "    <tr>\n",
              "      <th>3329</th>\n",
              "      <td>62005694</td>\n",
              "      <td>1</td>\n",
              "      <td>1.06</td>\n",
              "      <td>4.0</td>\n",
              "      <td>26.208333</td>\n",
              "      <td>83.0</td>\n",
              "      <td>80345241</td>\n",
              "      <td>1</td>\n",
              "      <td>POINT (-42.55290 -22.32220)</td>\n",
              "      <td>POINT (-42.53341 -22.27488)</td>\n",
              "      <td>0.051173</td>\n",
              "      <td>0.045542</td>\n",
              "      <td>7.522261e+06</td>\n",
              "      <td>7.521795e+06</td>\n",
              "    </tr>\n",
              "    <tr>\n",
              "      <th>3330</th>\n",
              "      <td>68553759</td>\n",
              "      <td>1</td>\n",
              "      <td>39.40</td>\n",
              "      <td>63.0</td>\n",
              "      <td>98.020833</td>\n",
              "      <td>3923.0</td>\n",
              "      <td>80345241</td>\n",
              "      <td>1</td>\n",
              "      <td>POINT (-42.55061 -22.33056)</td>\n",
              "      <td>POINT (-42.53341 -22.27488)</td>\n",
              "      <td>0.058273</td>\n",
              "      <td>0.052244</td>\n",
              "      <td>7.522261e+06</td>\n",
              "      <td>7.521795e+06</td>\n",
              "    </tr>\n",
              "    <tr>\n",
              "      <th>3331</th>\n",
              "      <td>71641214</td>\n",
              "      <td>1</td>\n",
              "      <td>47.19</td>\n",
              "      <td>39.0</td>\n",
              "      <td>160.950855</td>\n",
              "      <td>8415.0</td>\n",
              "      <td>80345241</td>\n",
              "      <td>1</td>\n",
              "      <td>POINT (-42.54295 -22.32953)</td>\n",
              "      <td>POINT (-42.53341 -22.27488)</td>\n",
              "      <td>0.055476</td>\n",
              "      <td>0.049019</td>\n",
              "      <td>7.522261e+06</td>\n",
              "      <td>7.521795e+06</td>\n",
              "    </tr>\n",
              "    <tr>\n",
              "      <th>3332</th>\n",
              "      <td>87219744</td>\n",
              "      <td>1</td>\n",
              "      <td>242.57</td>\n",
              "      <td>146.0</td>\n",
              "      <td>133.132114</td>\n",
              "      <td>8476.0</td>\n",
              "      <td>80345241</td>\n",
              "      <td>1</td>\n",
              "      <td>POINT (-42.54309 -22.30406)</td>\n",
              "      <td>POINT (-42.53341 -22.27488)</td>\n",
              "      <td>0.030737</td>\n",
              "      <td>0.024922</td>\n",
              "      <td>7.522261e+06</td>\n",
              "      <td>7.521795e+06</td>\n",
              "    </tr>\n",
              "    <tr>\n",
              "      <th>3333</th>\n",
              "      <td>91818602</td>\n",
              "      <td>1</td>\n",
              "      <td>101.44</td>\n",
              "      <td>151.0</td>\n",
              "      <td>112.299383</td>\n",
              "      <td>8603.0</td>\n",
              "      <td>80345241</td>\n",
              "      <td>1</td>\n",
              "      <td>POINT (-42.55113 -22.33055)</td>\n",
              "      <td>POINT (-42.53341 -22.27488)</td>\n",
              "      <td>0.058420</td>\n",
              "      <td>0.052424</td>\n",
              "      <td>7.522261e+06</td>\n",
              "      <td>7.521795e+06</td>\n",
              "    </tr>\n",
              "  </tbody>\n",
              "</table>\n",
              "<p>3334 rows × 14 columns</p>\n",
              "</div>"
            ],
            "text/plain": [
              "       UNI_TR_D  GRU_TAR     DIC  ...  eu_dis_nfe   main_r_dist  secondary_r_dist\n",
              "0     101415715        1   76.55  ...    0.138264  7.522261e+06      7.521795e+06\n",
              "1     103455355        1    8.31  ...    0.210518  7.522261e+06      7.521795e+06\n",
              "2     105138826        1   16.10  ...    0.240169  7.522261e+06      7.521795e+06\n",
              "3     106512676        1   17.24  ...    0.177878  7.522261e+06      7.521795e+06\n",
              "4     108015624        1   19.15  ...    0.186244  7.522261e+06      7.521795e+06\n",
              "...         ...      ...     ...  ...         ...           ...               ...\n",
              "3329   62005694        1    1.06  ...    0.045542  7.522261e+06      7.521795e+06\n",
              "3330   68553759        1   39.40  ...    0.052244  7.522261e+06      7.521795e+06\n",
              "3331   71641214        1   47.19  ...    0.049019  7.522261e+06      7.521795e+06\n",
              "3332   87219744        1  242.57  ...    0.024922  7.522261e+06      7.521795e+06\n",
              "3333   91818602        1  101.44  ...    0.052424  7.522261e+06      7.521795e+06\n",
              "\n",
              "[3334 rows x 14 columns]"
            ]
          },
          "metadata": {
            "tags": []
          },
          "execution_count": 56
        }
      ]
    },
    {
      "cell_type": "markdown",
      "metadata": {
        "id": "u3SIHzuKc8xc",
        "colab_type": "text"
      },
      "source": [
        "## [Opcional] Generación de variables con arboles de busqueda\n",
        "\n",
        "8 - Cree variables que indique la cantidad de consumidores en radios de 25, 50 y 100 metros del transformador.\n",
        "\n",
        "9 - Cree una variable indicando la distancia media de cada fila (cada untrd) a los 5 untrd mas cercanos.\n",
        "\n",
        "10 - Usando OSMnx descargue los footprints de edificios disponibles, y cree una variable que indique la cantidad de edificios en un radio de 200 metros al transformador."
      ]
    },
    {
      "cell_type": "code",
      "metadata": {
        "id": "FFRt2Avuc8xc",
        "colab_type": "code",
        "colab": {}
      },
      "source": [
        ""
      ],
      "execution_count": null,
      "outputs": []
    }
  ]
}